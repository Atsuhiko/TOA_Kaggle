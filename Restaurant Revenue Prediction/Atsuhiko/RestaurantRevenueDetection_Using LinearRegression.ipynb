{
 "cells": [
  {
   "cell_type": "code",
   "execution_count": 2,
   "metadata": {
    "_cell_guid": "b1076dfc-b9ad-4769-8c92-a6c4dae69d19",
    "_uuid": "8f2839f25d086af736a60e9eeb907d3b93b6e0e5"
   },
   "outputs": [],
   "source": [
    "# This Python 3 environment comes with many helpful analytics libraries installed\n",
    "# It is defined by the kaggle/python docker image: https://github.com/kaggle/docker-python\n",
    "# For example, here's several helpful packages to load in \n",
    "\n",
    "import numpy as np # linear algebra\n",
    "import pandas as pd # data processing, CSV file I/O (e.g. pd.read_csv)\n",
    "import matplotlib.pyplot as plt\n",
    "\n",
    "import os\n",
    "for dirname, _, filenames in os.walk('/kaggle/input'):\n",
    "    for filename in filenames:\n",
    "        print(os.path.join(dirname, filename))\n",
    "trainData = pd.read_csv(\"./data//train.csv\")\n",
    "testData = pd.read_csv(\"./data/test.csv\")\n",
    "m=pd.read_csv(\"./data/sampleSubmission.csv\")\n",
    "\n",
    "# Any results you write to the current directory are saved as output."
   ]
  },
  {
   "cell_type": "code",
   "execution_count": 4,
   "metadata": {
    "_cell_guid": "79c7e3d0-c299-4dcb-8224-4455121ee9b0",
    "_uuid": "d629ff2d2480ee46fbb7e2d37f6b5fab8052498a"
   },
   "outputs": [
    {
     "name": "stdout",
     "output_type": "stream",
     "text": [
      "<bound method NDFrame.head of       Id   Open Date        City  City Group Type  P1   P2   P3   P4  P5  ...  \\\n",
      "0      0  07/17/1999    İstanbul  Big Cities   IL   4  5.0  4.0  4.0   2  ...   \n",
      "1      1  02/14/2008      Ankara  Big Cities   FC   4  5.0  4.0  4.0   1  ...   \n",
      "2      2  03/09/2013  Diyarbakır       Other   IL   2  4.0  2.0  5.0   2  ...   \n",
      "3      3  02/02/2012       Tokat       Other   IL   6  4.5  6.0  6.0   4  ...   \n",
      "4      4  05/09/2009   Gaziantep       Other   IL   3  4.0  3.0  4.0   2  ...   \n",
      "..   ...         ...         ...         ...  ...  ..  ...  ...  ...  ..  ...   \n",
      "132  132  06/25/2008     Trabzon       Other   FC   2  3.0  3.0  5.0   4  ...   \n",
      "133  133  10/12/2006       İzmir  Big Cities   FC   4  5.0  4.0  4.0   2  ...   \n",
      "134  134  07/08/2006     Kayseri       Other   FC   3  4.0  4.0  4.0   2  ...   \n",
      "135  135  10/29/2010    İstanbul  Big Cities   FC   4  5.0  4.0  5.0   2  ...   \n",
      "136  136  09/01/2009    İstanbul  Big Cities   FC   4  5.0  3.0  5.0   2  ...   \n",
      "\n",
      "     P29  P30  P31  P32  P33  P34  P35  P36  P37    revenue  \n",
      "0    3.0    5    3    4    5    5    4    3    4  5653753.0  \n",
      "1    3.0    0    0    0    0    0    0    0    0  6923131.0  \n",
      "2    3.0    0    0    0    0    0    0    0    0  2055379.0  \n",
      "3    7.5   25   12   10    6   18   12   12    6  2675511.0  \n",
      "4    3.0    5    1    3    2    3    4    3    3  4316715.0  \n",
      "..   ...  ...  ...  ...  ...  ...  ...  ...  ...        ...  \n",
      "132  3.0    0    0    0    0    0    0    0    0  5787594.0  \n",
      "133  3.0    0    0    0    0    0    0    0    0  9262754.0  \n",
      "134  3.0    0    0    0    0    0    0    0    0  2544857.0  \n",
      "135  3.0    0    0    0    0    0    0    0    0  7217634.0  \n",
      "136  3.0    0    0    0    0    0    0    0    0  6363241.0  \n",
      "\n",
      "[137 rows x 43 columns]>\n"
     ]
    }
   ],
   "source": [
    "print(trainData.head)"
   ]
  },
  {
   "cell_type": "code",
   "execution_count": 5,
   "metadata": {},
   "outputs": [
    {
     "name": "stdout",
     "output_type": "stream",
     "text": [
      "<bound method NDFrame.head of           Id   Open Date            City  City Group Type  P1   P2   P3   P4  \\\n",
      "0          0  01/22/2011           Niğde       Other   FC   1  4.0  4.0  4.0   \n",
      "1          1  03/18/2011           Konya       Other   IL   3  4.0  4.0  4.0   \n",
      "2          2  10/30/2013          Ankara  Big Cities   FC   3  4.0  4.0  4.0   \n",
      "3          3  05/06/2013         Kocaeli       Other   IL   2  4.0  4.0  4.0   \n",
      "4          4  07/31/2013  Afyonkarahisar       Other   FC   2  4.0  4.0  4.0   \n",
      "...      ...         ...             ...         ...  ...  ..  ...  ...  ...   \n",
      "99995  99995  01/05/2000         Antalya       Other   FC   5  5.0  4.0  4.0   \n",
      "99996  99996  07/18/2011           Niğde       Other   IL   1  2.0  4.0  3.0   \n",
      "99997  99997  12/29/2012        İstanbul  Big Cities   IL   4  5.0  4.0  4.0   \n",
      "99998  99998  10/12/2013        İstanbul  Big Cities   FC  12  7.5  6.0  6.0   \n",
      "99999  99999  10/05/2010        İstanbul  Big Cities   IL   2  5.0  4.0  4.0   \n",
      "\n",
      "       P5  ...  P28  P29  P30  P31  P32  P33  P34  P35  P36  P37  \n",
      "0       1  ...  2.0  3.0    0    0    0    0    0    0    0    0  \n",
      "1       2  ...  1.0  3.0    0    0    0    0    0    0    0    0  \n",
      "2       2  ...  2.0  3.0    0    0    0    0    0    0    0    0  \n",
      "3       2  ...  2.0  3.0    0    4    0    0    0    0    0    0  \n",
      "4       1  ...  5.0  3.0    0    0    0    0    0    0    0    0  \n",
      "...    ..  ...  ...  ...  ...  ...  ...  ...  ...  ...  ...  ...  \n",
      "99995   2  ...  2.0  3.0    0    0    0    0    0    0    0    0  \n",
      "99996   1  ...  1.0  3.0    5    0    0    0    4    0    0    0  \n",
      "99997   1  ...  4.0  1.0    5    5    3    2    4    4    4    2  \n",
      "99998   4  ...  7.5  5.0    0    0    0    4    0    0    0    0  \n",
      "99999   2  ...  5.0  3.0    0    2    0    2    2    4    2    0  \n",
      "\n",
      "[100000 rows x 42 columns]>\n"
     ]
    }
   ],
   "source": [
    "print(testData.head)"
   ]
  },
  {
   "cell_type": "code",
   "execution_count": 6,
   "metadata": {},
   "outputs": [
    {
     "data": {
      "text/plain": [
       "(100000, 42)"
      ]
     },
     "execution_count": 6,
     "metadata": {},
     "output_type": "execute_result"
    }
   ],
   "source": [
    "testData.shape"
   ]
  },
  {
   "cell_type": "code",
   "execution_count": 7,
   "metadata": {},
   "outputs": [
    {
     "data": {
      "text/plain": [
       "(137, 43)"
      ]
     },
     "execution_count": 7,
     "metadata": {},
     "output_type": "execute_result"
    }
   ],
   "source": [
    "trainData.shape"
   ]
  },
  {
   "cell_type": "code",
   "execution_count": 8,
   "metadata": {},
   "outputs": [],
   "source": [
    "y = trainData['revenue']\n",
    "trainData = trainData.drop('Id',axis=1)\n",
    "trainData = trainData.drop('Open Date',axis=1)\n",
    "trainData = trainData.drop('City',axis=1)\n",
    "trainData = trainData.drop('City Group',axis=1)\n",
    "trainData = trainData.drop('Type',axis=1)\n",
    "trainData = trainData.drop('revenue',axis=1)\n",
    "\n",
    "testData = testData.drop('Id',axis=1)\n",
    "testData = testData.drop('Open Date',axis=1)\n",
    "testData = testData.drop('City',axis=1)\n",
    "testData = testData.drop('City Group',axis=1)\n",
    "testData = testData.drop('Type',axis=1)"
   ]
  },
  {
   "cell_type": "code",
   "execution_count": 9,
   "metadata": {},
   "outputs": [
    {
     "data": {
      "text/html": [
       "<div>\n",
       "<style scoped>\n",
       "    .dataframe tbody tr th:only-of-type {\n",
       "        vertical-align: middle;\n",
       "    }\n",
       "\n",
       "    .dataframe tbody tr th {\n",
       "        vertical-align: top;\n",
       "    }\n",
       "\n",
       "    .dataframe thead th {\n",
       "        text-align: right;\n",
       "    }\n",
       "</style>\n",
       "<table border=\"1\" class=\"dataframe\">\n",
       "  <thead>\n",
       "    <tr style=\"text-align: right;\">\n",
       "      <th></th>\n",
       "      <th>P1</th>\n",
       "      <th>P2</th>\n",
       "      <th>P3</th>\n",
       "      <th>P4</th>\n",
       "      <th>P5</th>\n",
       "      <th>P6</th>\n",
       "      <th>P7</th>\n",
       "      <th>P8</th>\n",
       "      <th>P9</th>\n",
       "      <th>P10</th>\n",
       "      <th>...</th>\n",
       "      <th>P28</th>\n",
       "      <th>P29</th>\n",
       "      <th>P30</th>\n",
       "      <th>P31</th>\n",
       "      <th>P32</th>\n",
       "      <th>P33</th>\n",
       "      <th>P34</th>\n",
       "      <th>P35</th>\n",
       "      <th>P36</th>\n",
       "      <th>P37</th>\n",
       "    </tr>\n",
       "  </thead>\n",
       "  <tbody>\n",
       "    <tr>\n",
       "      <td>0</td>\n",
       "      <td>1</td>\n",
       "      <td>4.0</td>\n",
       "      <td>4.0</td>\n",
       "      <td>4.0</td>\n",
       "      <td>1</td>\n",
       "      <td>2</td>\n",
       "      <td>5</td>\n",
       "      <td>4</td>\n",
       "      <td>5</td>\n",
       "      <td>5</td>\n",
       "      <td>...</td>\n",
       "      <td>2.0</td>\n",
       "      <td>3.0</td>\n",
       "      <td>0</td>\n",
       "      <td>0</td>\n",
       "      <td>0</td>\n",
       "      <td>0</td>\n",
       "      <td>0</td>\n",
       "      <td>0</td>\n",
       "      <td>0</td>\n",
       "      <td>0</td>\n",
       "    </tr>\n",
       "    <tr>\n",
       "      <td>1</td>\n",
       "      <td>3</td>\n",
       "      <td>4.0</td>\n",
       "      <td>4.0</td>\n",
       "      <td>4.0</td>\n",
       "      <td>2</td>\n",
       "      <td>2</td>\n",
       "      <td>5</td>\n",
       "      <td>3</td>\n",
       "      <td>4</td>\n",
       "      <td>4</td>\n",
       "      <td>...</td>\n",
       "      <td>1.0</td>\n",
       "      <td>3.0</td>\n",
       "      <td>0</td>\n",
       "      <td>0</td>\n",
       "      <td>0</td>\n",
       "      <td>0</td>\n",
       "      <td>0</td>\n",
       "      <td>0</td>\n",
       "      <td>0</td>\n",
       "      <td>0</td>\n",
       "    </tr>\n",
       "    <tr>\n",
       "      <td>2</td>\n",
       "      <td>3</td>\n",
       "      <td>4.0</td>\n",
       "      <td>4.0</td>\n",
       "      <td>4.0</td>\n",
       "      <td>2</td>\n",
       "      <td>2</td>\n",
       "      <td>5</td>\n",
       "      <td>4</td>\n",
       "      <td>4</td>\n",
       "      <td>5</td>\n",
       "      <td>...</td>\n",
       "      <td>2.0</td>\n",
       "      <td>3.0</td>\n",
       "      <td>0</td>\n",
       "      <td>0</td>\n",
       "      <td>0</td>\n",
       "      <td>0</td>\n",
       "      <td>0</td>\n",
       "      <td>0</td>\n",
       "      <td>0</td>\n",
       "      <td>0</td>\n",
       "    </tr>\n",
       "    <tr>\n",
       "      <td>3</td>\n",
       "      <td>2</td>\n",
       "      <td>4.0</td>\n",
       "      <td>4.0</td>\n",
       "      <td>4.0</td>\n",
       "      <td>2</td>\n",
       "      <td>3</td>\n",
       "      <td>5</td>\n",
       "      <td>4</td>\n",
       "      <td>5</td>\n",
       "      <td>4</td>\n",
       "      <td>...</td>\n",
       "      <td>2.0</td>\n",
       "      <td>3.0</td>\n",
       "      <td>0</td>\n",
       "      <td>4</td>\n",
       "      <td>0</td>\n",
       "      <td>0</td>\n",
       "      <td>0</td>\n",
       "      <td>0</td>\n",
       "      <td>0</td>\n",
       "      <td>0</td>\n",
       "    </tr>\n",
       "    <tr>\n",
       "      <td>4</td>\n",
       "      <td>2</td>\n",
       "      <td>4.0</td>\n",
       "      <td>4.0</td>\n",
       "      <td>4.0</td>\n",
       "      <td>1</td>\n",
       "      <td>2</td>\n",
       "      <td>5</td>\n",
       "      <td>4</td>\n",
       "      <td>5</td>\n",
       "      <td>4</td>\n",
       "      <td>...</td>\n",
       "      <td>5.0</td>\n",
       "      <td>3.0</td>\n",
       "      <td>0</td>\n",
       "      <td>0</td>\n",
       "      <td>0</td>\n",
       "      <td>0</td>\n",
       "      <td>0</td>\n",
       "      <td>0</td>\n",
       "      <td>0</td>\n",
       "      <td>0</td>\n",
       "    </tr>\n",
       "    <tr>\n",
       "      <td>...</td>\n",
       "      <td>...</td>\n",
       "      <td>...</td>\n",
       "      <td>...</td>\n",
       "      <td>...</td>\n",
       "      <td>...</td>\n",
       "      <td>...</td>\n",
       "      <td>...</td>\n",
       "      <td>...</td>\n",
       "      <td>...</td>\n",
       "      <td>...</td>\n",
       "      <td>...</td>\n",
       "      <td>...</td>\n",
       "      <td>...</td>\n",
       "      <td>...</td>\n",
       "      <td>...</td>\n",
       "      <td>...</td>\n",
       "      <td>...</td>\n",
       "      <td>...</td>\n",
       "      <td>...</td>\n",
       "      <td>...</td>\n",
       "      <td>...</td>\n",
       "    </tr>\n",
       "    <tr>\n",
       "      <td>99995</td>\n",
       "      <td>5</td>\n",
       "      <td>5.0</td>\n",
       "      <td>4.0</td>\n",
       "      <td>4.0</td>\n",
       "      <td>2</td>\n",
       "      <td>2</td>\n",
       "      <td>5</td>\n",
       "      <td>5</td>\n",
       "      <td>4</td>\n",
       "      <td>4</td>\n",
       "      <td>...</td>\n",
       "      <td>2.0</td>\n",
       "      <td>3.0</td>\n",
       "      <td>0</td>\n",
       "      <td>0</td>\n",
       "      <td>0</td>\n",
       "      <td>0</td>\n",
       "      <td>0</td>\n",
       "      <td>0</td>\n",
       "      <td>0</td>\n",
       "      <td>0</td>\n",
       "    </tr>\n",
       "    <tr>\n",
       "      <td>99996</td>\n",
       "      <td>1</td>\n",
       "      <td>2.0</td>\n",
       "      <td>4.0</td>\n",
       "      <td>3.0</td>\n",
       "      <td>1</td>\n",
       "      <td>1</td>\n",
       "      <td>1</td>\n",
       "      <td>5</td>\n",
       "      <td>5</td>\n",
       "      <td>5</td>\n",
       "      <td>...</td>\n",
       "      <td>1.0</td>\n",
       "      <td>3.0</td>\n",
       "      <td>5</td>\n",
       "      <td>0</td>\n",
       "      <td>0</td>\n",
       "      <td>0</td>\n",
       "      <td>4</td>\n",
       "      <td>0</td>\n",
       "      <td>0</td>\n",
       "      <td>0</td>\n",
       "    </tr>\n",
       "    <tr>\n",
       "      <td>99997</td>\n",
       "      <td>4</td>\n",
       "      <td>5.0</td>\n",
       "      <td>4.0</td>\n",
       "      <td>4.0</td>\n",
       "      <td>1</td>\n",
       "      <td>2</td>\n",
       "      <td>5</td>\n",
       "      <td>3</td>\n",
       "      <td>4</td>\n",
       "      <td>5</td>\n",
       "      <td>...</td>\n",
       "      <td>4.0</td>\n",
       "      <td>1.0</td>\n",
       "      <td>5</td>\n",
       "      <td>5</td>\n",
       "      <td>3</td>\n",
       "      <td>2</td>\n",
       "      <td>4</td>\n",
       "      <td>4</td>\n",
       "      <td>4</td>\n",
       "      <td>2</td>\n",
       "    </tr>\n",
       "    <tr>\n",
       "      <td>99998</td>\n",
       "      <td>12</td>\n",
       "      <td>7.5</td>\n",
       "      <td>6.0</td>\n",
       "      <td>6.0</td>\n",
       "      <td>4</td>\n",
       "      <td>4</td>\n",
       "      <td>10</td>\n",
       "      <td>10</td>\n",
       "      <td>10</td>\n",
       "      <td>10</td>\n",
       "      <td>...</td>\n",
       "      <td>7.5</td>\n",
       "      <td>5.0</td>\n",
       "      <td>0</td>\n",
       "      <td>0</td>\n",
       "      <td>0</td>\n",
       "      <td>4</td>\n",
       "      <td>0</td>\n",
       "      <td>0</td>\n",
       "      <td>0</td>\n",
       "      <td>0</td>\n",
       "    </tr>\n",
       "    <tr>\n",
       "      <td>99999</td>\n",
       "      <td>2</td>\n",
       "      <td>5.0</td>\n",
       "      <td>4.0</td>\n",
       "      <td>4.0</td>\n",
       "      <td>2</td>\n",
       "      <td>2</td>\n",
       "      <td>5</td>\n",
       "      <td>5</td>\n",
       "      <td>5</td>\n",
       "      <td>4</td>\n",
       "      <td>...</td>\n",
       "      <td>5.0</td>\n",
       "      <td>3.0</td>\n",
       "      <td>0</td>\n",
       "      <td>2</td>\n",
       "      <td>0</td>\n",
       "      <td>2</td>\n",
       "      <td>2</td>\n",
       "      <td>4</td>\n",
       "      <td>2</td>\n",
       "      <td>0</td>\n",
       "    </tr>\n",
       "  </tbody>\n",
       "</table>\n",
       "<p>100000 rows × 37 columns</p>\n",
       "</div>"
      ],
      "text/plain": [
       "       P1   P2   P3   P4  P5  P6  P7  P8  P9  P10  ...  P28  P29  P30  P31  \\\n",
       "0       1  4.0  4.0  4.0   1   2   5   4   5    5  ...  2.0  3.0    0    0   \n",
       "1       3  4.0  4.0  4.0   2   2   5   3   4    4  ...  1.0  3.0    0    0   \n",
       "2       3  4.0  4.0  4.0   2   2   5   4   4    5  ...  2.0  3.0    0    0   \n",
       "3       2  4.0  4.0  4.0   2   3   5   4   5    4  ...  2.0  3.0    0    4   \n",
       "4       2  4.0  4.0  4.0   1   2   5   4   5    4  ...  5.0  3.0    0    0   \n",
       "...    ..  ...  ...  ...  ..  ..  ..  ..  ..  ...  ...  ...  ...  ...  ...   \n",
       "99995   5  5.0  4.0  4.0   2   2   5   5   4    4  ...  2.0  3.0    0    0   \n",
       "99996   1  2.0  4.0  3.0   1   1   1   5   5    5  ...  1.0  3.0    5    0   \n",
       "99997   4  5.0  4.0  4.0   1   2   5   3   4    5  ...  4.0  1.0    5    5   \n",
       "99998  12  7.5  6.0  6.0   4   4  10  10  10   10  ...  7.5  5.0    0    0   \n",
       "99999   2  5.0  4.0  4.0   2   2   5   5   5    4  ...  5.0  3.0    0    2   \n",
       "\n",
       "       P32  P33  P34  P35  P36  P37  \n",
       "0        0    0    0    0    0    0  \n",
       "1        0    0    0    0    0    0  \n",
       "2        0    0    0    0    0    0  \n",
       "3        0    0    0    0    0    0  \n",
       "4        0    0    0    0    0    0  \n",
       "...    ...  ...  ...  ...  ...  ...  \n",
       "99995    0    0    0    0    0    0  \n",
       "99996    0    0    4    0    0    0  \n",
       "99997    3    2    4    4    4    2  \n",
       "99998    0    4    0    0    0    0  \n",
       "99999    0    2    2    4    2    0  \n",
       "\n",
       "[100000 rows x 37 columns]"
      ]
     },
     "execution_count": 9,
     "metadata": {},
     "output_type": "execute_result"
    }
   ],
   "source": [
    "testData"
   ]
  },
  {
   "cell_type": "code",
   "execution_count": 10,
   "metadata": {},
   "outputs": [],
   "source": [
    "X=trainData"
   ]
  },
  {
   "cell_type": "code",
   "execution_count": 11,
   "metadata": {},
   "outputs": [
    {
     "name": "stdout",
     "output_type": "stream",
     "text": [
      "<bound method NDFrame.head of      P1   P2   P3   P4  P5  P6  P7  P8  P9  P10  ...  P28  P29  P30  P31  P32  \\\n",
      "0     4  5.0  4.0  4.0   2   2   5   4   5    5  ...  2.0  3.0    5    3    4   \n",
      "1     4  5.0  4.0  4.0   1   2   5   5   5    5  ...  3.0  3.0    0    0    0   \n",
      "2     2  4.0  2.0  5.0   2   3   5   5   5    5  ...  1.0  3.0    0    0    0   \n",
      "3     6  4.5  6.0  6.0   4   4  10   8  10   10  ...  2.5  7.5   25   12   10   \n",
      "4     3  4.0  3.0  4.0   2   2   5   5   5    5  ...  1.0  3.0    5    1    3   \n",
      "..   ..  ...  ...  ...  ..  ..  ..  ..  ..  ...  ...  ...  ...  ...  ...  ...   \n",
      "132   2  3.0  3.0  5.0   4   2   4   4   4    4  ...  2.0  3.0    0    0    0   \n",
      "133   4  5.0  4.0  4.0   2   3   5   4   4    5  ...  3.0  3.0    0    0    0   \n",
      "134   3  4.0  4.0  4.0   2   3   5   5   5    5  ...  2.0  3.0    0    0    0   \n",
      "135   4  5.0  4.0  5.0   2   2   5   5   5    5  ...  3.0  3.0    0    0    0   \n",
      "136   4  5.0  3.0  5.0   2   2   5   4   4    5  ...  3.0  3.0    0    0    0   \n",
      "\n",
      "     P33  P34  P35  P36  P37  \n",
      "0      5    5    4    3    4  \n",
      "1      0    0    0    0    0  \n",
      "2      0    0    0    0    0  \n",
      "3      6   18   12   12    6  \n",
      "4      2    3    4    3    3  \n",
      "..   ...  ...  ...  ...  ...  \n",
      "132    0    0    0    0    0  \n",
      "133    0    0    0    0    0  \n",
      "134    0    0    0    0    0  \n",
      "135    0    0    0    0    0  \n",
      "136    0    0    0    0    0  \n",
      "\n",
      "[137 rows x 37 columns]>\n"
     ]
    }
   ],
   "source": [
    "X\n",
    "print(trainData.head)"
   ]
  },
  {
   "cell_type": "code",
   "execution_count": 12,
   "metadata": {},
   "outputs": [
    {
     "data": {
      "text/plain": [
       "[<matplotlib.lines.Line2D at 0x2605cb22908>,\n",
       " <matplotlib.lines.Line2D at 0x2605cb22a58>,\n",
       " <matplotlib.lines.Line2D at 0x2605cb22ba8>,\n",
       " <matplotlib.lines.Line2D at 0x2605cb22cf8>,\n",
       " <matplotlib.lines.Line2D at 0x2605cb22e48>,\n",
       " <matplotlib.lines.Line2D at 0x2605cb22f98>,\n",
       " <matplotlib.lines.Line2D at 0x2605cb35128>,\n",
       " <matplotlib.lines.Line2D at 0x2605cb35278>,\n",
       " <matplotlib.lines.Line2D at 0x2605cb353c8>,\n",
       " <matplotlib.lines.Line2D at 0x2605cb35518>,\n",
       " <matplotlib.lines.Line2D at 0x2605cae2748>,\n",
       " <matplotlib.lines.Line2D at 0x2605cb35780>,\n",
       " <matplotlib.lines.Line2D at 0x2605cb358d0>,\n",
       " <matplotlib.lines.Line2D at 0x2605cb35a20>,\n",
       " <matplotlib.lines.Line2D at 0x2605cb35b70>,\n",
       " <matplotlib.lines.Line2D at 0x2605cb35cc0>,\n",
       " <matplotlib.lines.Line2D at 0x2605cb35e10>,\n",
       " <matplotlib.lines.Line2D at 0x2605cb35f60>,\n",
       " <matplotlib.lines.Line2D at 0x2605cb390f0>,\n",
       " <matplotlib.lines.Line2D at 0x2605cb39240>,\n",
       " <matplotlib.lines.Line2D at 0x2605cb39390>,\n",
       " <matplotlib.lines.Line2D at 0x2605cb394e0>,\n",
       " <matplotlib.lines.Line2D at 0x2605cb39630>,\n",
       " <matplotlib.lines.Line2D at 0x2605cb39780>,\n",
       " <matplotlib.lines.Line2D at 0x2605cb398d0>,\n",
       " <matplotlib.lines.Line2D at 0x2605cb39a20>,\n",
       " <matplotlib.lines.Line2D at 0x2605cb39b70>,\n",
       " <matplotlib.lines.Line2D at 0x2605cb39cc0>,\n",
       " <matplotlib.lines.Line2D at 0x2605cb39e10>,\n",
       " <matplotlib.lines.Line2D at 0x2605cb39f60>,\n",
       " <matplotlib.lines.Line2D at 0x2605cb3e0f0>,\n",
       " <matplotlib.lines.Line2D at 0x2605cb3e240>,\n",
       " <matplotlib.lines.Line2D at 0x2605cb3e390>,\n",
       " <matplotlib.lines.Line2D at 0x2605cb3e4e0>,\n",
       " <matplotlib.lines.Line2D at 0x2605cb3e630>,\n",
       " <matplotlib.lines.Line2D at 0x2605cb3e780>,\n",
       " <matplotlib.lines.Line2D at 0x2605cb3e8d0>]"
      ]
     },
     "execution_count": 12,
     "metadata": {},
     "output_type": "execute_result"
    },
    {
     "name": "stderr",
     "output_type": "stream",
     "text": [
      "findfont: Font family ['IPAexGothic'] not found. Falling back to DejaVu Sans.\n"
     ]
    },
    {
     "data": {
      "image/png": "[encoded data removed]",
      "text/plain": [
       "<Figure size 432x288 with 1 Axes>"
      ]
     },
     "metadata": {
      "needs_background": "light"
     },
     "output_type": "display_data"
    }
   ],
   "source": [
    "plt.plot(X,y)"
   ]
  },
  {
   "cell_type": "code",
   "execution_count": 13,
   "metadata": {},
   "outputs": [
    {
     "data": {
      "text/plain": [
       "LinearRegression(copy_X=True, fit_intercept=True, n_jobs=None, normalize=False)"
      ]
     },
     "execution_count": 13,
     "metadata": {},
     "output_type": "execute_result"
    }
   ],
   "source": [
    "from sklearn.linear_model import LinearRegression\n",
    "lm = LinearRegression()\n",
    "lm.fit(X,y)"
   ]
  },
  {
   "cell_type": "code",
   "execution_count": 14,
   "metadata": {},
   "outputs": [
    {
     "name": "stdout",
     "output_type": "stream",
     "text": [
      "[5760599.0676968  3815315.1952025  2255464.38921502 ... 6082521.75248059\n",
      " 3544592.81445758 6775983.80089953]\n",
      "(100000,)\n"
     ]
    }
   ],
   "source": [
    "pred=lm.predict(testData)\n",
    "print(pred)\n",
    "print(pred.shape)\n",
    "#print(trainData.shape)"
   ]
  },
  {
   "cell_type": "code",
   "execution_count": 15,
   "metadata": {},
   "outputs": [
    {
     "name": "stdout",
     "output_type": "stream",
     "text": [
      "0.29020445161234254\n"
     ]
    }
   ],
   "source": [
    "sc=lm.score(X,y)\n",
    "print(sc)"
   ]
  },
  {
   "cell_type": "code",
   "execution_count": null,
   "metadata": {},
   "outputs": [],
   "source": [
    "#Accuracy is too low because data is very less in trainData"
   ]
  },
  {
   "cell_type": "code",
   "execution_count": 17,
   "metadata": {},
   "outputs": [],
   "source": [
    "testData = pd.read_csv(\"./data/test.csv\")\n",
    "submission = pd.DataFrame({\n",
    "        \"Id\": testData[\"Id\"],\n",
    "        \"Prediction\": pred\n",
    "    })\n",
    "submission.to_csv('LinearRegressionSimple.csv',header=True, index=False)"
   ]
  },
  {
   "cell_type": "code",
   "execution_count": null,
   "metadata": {},
   "outputs": [],
   "source": []
  }
 ],
 "metadata": {
  "kernelspec": {
   "display_name": "Python 3",
   "language": "python",
   "name": "python3"
  },
  "language_info": {
   "codemirror_mode": {
    "name": "ipython",
    "version": 3
   },
   "file_extension": ".py",
   "mimetype": "text/x-python",
   "name": "python",
   "nbconvert_exporter": "python",
   "pygments_lexer": "ipython3",
   "version": "3.6.9"
  }
 },
 "nbformat": 4,
 "nbformat_minor": 1
}
