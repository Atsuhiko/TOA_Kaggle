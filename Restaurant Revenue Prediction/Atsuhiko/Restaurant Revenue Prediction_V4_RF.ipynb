{
 "cells": [
  {
   "cell_type": "markdown",
   "metadata": {},
   "source": [
    "# I am going to use 4 different models trying to approach the most minimal possible RMSE:\n",
    "1. Linear Regression Model\n",
    "2. Random Forest Regressor Model\n",
    "3. XGB Regressor Model\n",
    "4. Gradient Boosting Regressor Model"
   ]
  },
  {
   "cell_type": "code",
   "execution_count": 1,
   "metadata": {
    "_cell_guid": "b1076dfc-b9ad-4769-8c92-a6c4dae69d19",
    "_uuid": "8f2839f25d086af736a60e9eeb907d3b93b6e0e5"
   },
   "outputs": [],
   "source": [
    "# This Python 3 environment comes with many helpful analytics libraries installed\n",
    "# It is defined by the kaggle/python docker image: https://github.com/kaggle/docker-python\n",
    "# For example, here's several helpful packages to load in \n",
    "\n",
    "import numpy as np # linear algebra\n",
    "import pandas as pd # data processing, CSV file I/O (e.g. pd.read_csv)\n",
    "\n",
    "import matplotlib.pyplot as plt\n",
    "from sklearn import datasets, linear_model\n",
    "from sklearn.metrics import mean_squared_error, r2_score\n",
    "from sklearn import preprocessing\n",
    "from sklearn.model_selection import train_test_split\n",
    "\n",
    "\n",
    "# Input data files are available in the \"../input/\" directory.\n",
    "# For example, running this (by clicking run or pressing Shift+Enter) will list all files under the input directory\n",
    "\n",
    "import os\n",
    "for dirname, _, filenames in os.walk('/kaggle/input'):\n",
    "    for filename in filenames:\n",
    "        print(os.path.join(dirname, filename))\n",
    "\n",
    "# Any results you write to the current directory are saved as output."
   ]
  },
  {
   "cell_type": "markdown",
   "metadata": {},
   "source": [
    "# Data loading"
   ]
  },
  {
   "cell_type": "code",
   "execution_count": 2,
   "metadata": {
    "_cell_guid": "79c7e3d0-c299-4dcb-8224-4455121ee9b0",
    "_uuid": "d629ff2d2480ee46fbb7e2d37f6b5fab8052498a"
   },
   "outputs": [],
   "source": [
    "#TFI (tab food investments) has provided a dataset with 137 restaurants in the training set, and a test set of 100000 restaurants..\n",
    "train =  pd.read_csv('./data/train.csv')\n",
    "test = pd.read_csv('./data/test.csv')"
   ]
  },
  {
   "cell_type": "code",
   "execution_count": 3,
   "metadata": {},
   "outputs": [],
   "source": [
    "train['Days_Open'] = (pd.to_datetime('2015-03-23') - pd.to_datetime(train['Open Date'])).dt.days\n",
    "test['Days_Open'] = (pd.to_datetime('2015-03-23') - pd.to_datetime(test['Open Date'])).dt.days\n",
    "train = train.drop('Open Date', axis=1)\n",
    "test = test.drop('Open Date', axis=1)\n",
    "\n",
    "train['Type_IL'] = np.where(train['Type'] == 'IL', 1, 0)\n",
    "train['Type_FC'] = np.where(train['Type'] == 'FC', 1, 0)\n",
    "train['Type_DT'] = np.where(train['Type'] == 'DT', 1, 0)\n",
    "test['Type_IL'] = np.where(test['Type'] == 'IL', 1, 0)\n",
    "test['Type_FC'] = np.where(test['Type'] == 'FC', 1, 0)\n",
    "test['Type_DT'] = np.where(test['Type'] == 'DT', 1, 0)\n",
    "train = train.drop('Type', axis=1)\n",
    "test = test.drop('Type', axis=1)"
   ]
  },
  {
   "cell_type": "code",
   "execution_count": 4,
   "metadata": {},
   "outputs": [],
   "source": [
    "y= train.revenue\n",
    "x_train= train.drop(['Id', 'revenue'], axis=1)\n",
    "x_test = test.drop(['Id'], axis=1)"
   ]
  },
  {
   "cell_type": "code",
   "execution_count": 5,
   "metadata": {},
   "outputs": [],
   "source": [
    "from sklearn.preprocessing import LabelEncoder\n",
    "# Processing the categorical columns to provide vector form of feature\n",
    "class DataFrameProcess:\n",
    "    def __init__(self,df,col):\n",
    "        self.df =df\n",
    "        self.col=col\n",
    "    def dataEncoding(self):\n",
    "        if self.df[self.col].dtype.name == 'object' or self.df[self.col].dtype.name == 'category':\n",
    "            le = LabelEncoder()\n",
    "            self.df[self.col] = le.fit_transform(self.df[self.col])    \n",
    "\n",
    "\n",
    "def data_transform(df):  \n",
    "    for col in df.columns:\n",
    "        data_prcs = DataFrameProcess(df,col)\n",
    "        data_prcs.dataEncoding()  \n",
    "data_transform(x_train) \n",
    "data_transform(x_test)"
   ]
  },
  {
   "cell_type": "code",
   "execution_count": 6,
   "metadata": {},
   "outputs": [
    {
     "data": {
      "text/plain": [
       "(137, 43)"
      ]
     },
     "execution_count": 6,
     "metadata": {},
     "output_type": "execute_result"
    }
   ],
   "source": [
    "x_train.shape"
   ]
  },
  {
   "cell_type": "code",
   "execution_count": 7,
   "metadata": {},
   "outputs": [
    {
     "data": {
      "text/plain": [
       "(137,)"
      ]
     },
     "execution_count": 7,
     "metadata": {},
     "output_type": "execute_result"
    }
   ],
   "source": [
    "y.shape"
   ]
  },
  {
   "cell_type": "code",
   "execution_count": 8,
   "metadata": {},
   "outputs": [],
   "source": [
    "#newdf_train = pd.DataFrame(np.repeat(x_train.values,100000,axis=0))\n",
    "#newdf_train.columns = x_train.columns\n",
    "\n",
    "#newdf_y = pd.DataFrame(np.repeat(y.values,100000,axis=0))\n",
    "#newdf_y.columns = y.columns\n",
    "#print(newdf_y)"
   ]
  },
  {
   "cell_type": "code",
   "execution_count": 9,
   "metadata": {},
   "outputs": [],
   "source": [
    "#X_train, c, y_train, y_valid = train_test_split(newdf_train, newdf_y, train_size=0.8, test_size=0.2, random_state=0)"
   ]
  },
  {
   "cell_type": "code",
   "execution_count": 10,
   "metadata": {},
   "outputs": [],
   "source": [
    "#X_valid.shape"
   ]
  },
  {
   "cell_type": "code",
   "execution_count": 11,
   "metadata": {},
   "outputs": [],
   "source": [
    "#X_train.shape"
   ]
  },
  {
   "cell_type": "markdown",
   "metadata": {},
   "source": [
    "# 2. Random Forest Regressor Model"
   ]
  },
  {
   "cell_type": "code",
   "execution_count": 12,
   "metadata": {},
   "outputs": [
    {
     "name": "stderr",
     "output_type": "stream",
     "text": [
      "D:\\Users\\301518\\AppData\\Local\\Continuum\\anaconda3\\envs\\Python3.6-gpu\\lib\\site-packages\\sklearn\\ensemble\\forest.py:245: FutureWarning: The default value of n_estimators will change from 10 in version 0.20 to 100 in 0.22.\n",
      "  \"10 in version 0.20 to 100 in 0.22.\", FutureWarning)\n"
     ]
    }
   ],
   "source": [
    "from sklearn.ensemble import RandomForestRegressor\n",
    "from sklearn.metrics import mean_squared_error\n",
    "from math import sqrt\n",
    "\n",
    "rf_model = RandomForestRegressor(random_state=1)\n",
    "rf_model.fit(x_train, y)\n",
    "rf_predictions = rf_model.predict(x_test)"
   ]
  },
  {
   "cell_type": "code",
   "execution_count": 14,
   "metadata": {},
   "outputs": [],
   "source": [
    "test_label=pd.read_csv('./data/sampleSubmission.csv')  # test target\n",
    "from sklearn.metrics import mean_squared_error\n",
    "from math import sqrt\n",
    "label_list=test_label['Prediction'].tolist()"
   ]
  },
  {
   "cell_type": "code",
   "execution_count": 15,
   "metadata": {},
   "outputs": [
    {
     "name": "stdout",
     "output_type": "stream",
     "text": [
      "Root Mean squared error 1512184.1045454023\n"
     ]
    }
   ],
   "source": [
    "RandomForestRegressor_RMSE= sqrt(mean_squared_error(label_list, rf_predictions))\n",
    "print('Root Mean squared error {}'.format(RandomForestRegressor_RMSE))\n"
   ]
  },
  {
   "cell_type": "code",
   "execution_count": 16,
   "metadata": {},
   "outputs": [
    {
     "name": "stdout",
     "output_type": "stream",
     "text": [
      "done\n"
     ]
    }
   ],
   "source": [
    "submission = pd.DataFrame({\n",
    "        \"Id\": test[\"Id\"],\n",
    "        \"Prediction\": rf_predictions\n",
    "    })\n",
    "submission.to_csv('RF_submission.csv',header=True, index=False)\n",
    "print('done')"
   ]
  },
  {
   "cell_type": "code",
   "execution_count": null,
   "metadata": {},
   "outputs": [],
   "source": []
  }
 ],
 "metadata": {
  "kernelspec": {
   "display_name": "Python 3",
   "language": "python",
   "name": "python3"
  },
  "language_info": {
   "codemirror_mode": {
    "name": "ipython",
    "version": 3
   },
   "file_extension": ".py",
   "mimetype": "text/x-python",
   "name": "python",
   "nbconvert_exporter": "python",
   "pygments_lexer": "ipython3",
   "version": "3.6.9"
  }
 },
 "nbformat": 4,
 "nbformat_minor": 1
}
