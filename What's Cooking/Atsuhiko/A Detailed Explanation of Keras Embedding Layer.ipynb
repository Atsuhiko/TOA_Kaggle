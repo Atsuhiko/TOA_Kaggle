{
 "cells": [
  {
   "cell_type": "markdown",
   "metadata": {
    "_uuid": "d3d6451a0f6029825c07e3efadcd77169b31db9e"
   },
   "source": [
    "## A Detailed Guide to understand the Word Embeddings and Embedding Layer in Keras."
   ]
  },
  {
   "cell_type": "markdown",
   "metadata": {
    "_uuid": "7acfc8938e6bc84b3fc3f458cb74e7aeb296e12d"
   },
   "source": [
    "## [Don't forget to upvote ;) ]"
   ]
  },
  {
   "cell_type": "markdown",
   "metadata": {
    "_uuid": "3017fc7c972715b9236e2e0d77b74e1b36dbe8e9"
   },
   "source": [
    "In this kernel I have explained the keras embedding layer. To do so I have created a sample corpus of just 3 documents and that should be sufficient to explain the working of the keras embedding layer.\n"
   ]
  },
  {
   "cell_type": "markdown",
   "metadata": {
    "_uuid": "ed3010328fb2965b8c7665d54bb5690bbf3a9714"
   },
   "source": [
    "Embeddings are useful in a variety of machine learning applications. Because of the fact I have attached many data sources to the kernel where I fell that embeddings and Keras embedding layer may prove to be useful."
   ]
  },
  {
   "cell_type": "markdown",
   "metadata": {
    "_uuid": "7a5c0786e978d93aa5de2a4315cb817d66f3da38"
   },
   "source": [
    "Before diving in let us skim through some of the applilcations of the embeddings : \n",
    "\n",
    "**1 ) The first application that strikes me is in the Collaborative Filtering based Recommender Systems where we have to create the user embeddings and the movie embeddings by decomposing the utility matrix which contains the user-item ratings.**\n",
    "\n",
    "To see a complete tutorial on CF based recommender systems using embeddings in Keras you can follow **[this](https://www.kaggle.com/rajmehra03/cf-based-recsys-by-low-rank-matrix-factorization)** kernel of mine.\n",
    "\n",
    "\n",
    "**2 ) The second use is in the Natural Language Processing and its related applications whre we have to create the word embeddings for all the words present in the documents of our corpus.**\n",
    "\n",
    "This is the terminology that I shall use in this kernel.\n",
    "\n",
    "\n",
    "**Thus the embedding layer in Keras can be used when we want to create the embeddings to embed higher dimensional data into lower dimensional vector space.**"
   ]
  },
  {
   "cell_type": "markdown",
   "metadata": {
    "_uuid": "d48312c5146ad38bab97d505dd35a147b946de4a"
   },
   "source": [
    "#### IMPORTING MODULES"
   ]
  },
  {
   "cell_type": "code",
   "execution_count": 1,
   "metadata": {
    "_uuid": "cedb06de49a94e693e8de60941b7c57d6997f63f"
   },
   "outputs": [
    {
     "name": "stderr",
     "output_type": "stream",
     "text": [
      "Using TensorFlow backend.\n"
     ]
    }
   ],
   "source": [
    "# Ignore  the warnings\n",
    "import warnings\n",
    "warnings.filterwarnings('always')\n",
    "warnings.filterwarnings('ignore')\n",
    "\n",
    "# data visualisation and manipulation\n",
    "import numpy as np\n",
    "import pandas as pd\n",
    "import matplotlib.pyplot as plt\n",
    "from matplotlib import style\n",
    "import seaborn as sns\n",
    "#configure\n",
    "# sets matplotlib to inline and displays graphs below the corressponding cell.\n",
    "%matplotlib inline  \n",
    "style.use('fivethirtyeight')\n",
    "sns.set(style='whitegrid',color_codes=True)\n",
    "\n",
    "#nltk\n",
    "import nltk\n",
    "\n",
    "#stop-words\n",
    "from nltk.corpus import stopwords\n",
    "stop_words=set(nltk.corpus.stopwords.words('english'))\n",
    "\n",
    "# tokenizing\n",
    "from nltk import word_tokenize,sent_tokenize\n",
    "\n",
    "#keras\n",
    "import keras\n",
    "from keras.preprocessing.text import one_hot,Tokenizer\n",
    "from keras.preprocessing.sequence import pad_sequences\n",
    "from keras.models import Sequential\n",
    "from keras.layers import Dense , Flatten ,Embedding,Input\n",
    "from keras.models import Model"
   ]
  },
  {
   "cell_type": "markdown",
   "metadata": {
    "_uuid": "604b9fdec82053d0170e98af3e76594001ee9e43"
   },
   "source": [
    "#### CREATING SAMPLE CORPUS OF DOCUMENTS ie TEXTS"
   ]
  },
  {
   "cell_type": "code",
   "execution_count": 3,
   "metadata": {
    "_uuid": "b789f1783a653c9a6b74541fd27348f5680c6569"
   },
   "outputs": [],
   "source": [
    "sample_text_1=\"bitty bought a bit of butter\"\n",
    "sample_text_2=\"but the bit of butter was a bit bitter\"\n",
    "sample_text_3=\"so she bought some better butter to make the bitter butter better\"\n",
    "\n",
    "corp=[sample_text_1,sample_text_2,sample_text_3]\n",
    "no_docs=len(corp)"
   ]
  },
  {
   "cell_type": "markdown",
   "metadata": {
    "_uuid": "2fc3f964bec6dab85e0b9e5874d065f6f5637f1d"
   },
   "source": [
    "#### INTEGER ENCODING ALL THE DOCUMENTS"
   ]
  },
  {
   "cell_type": "markdown",
   "metadata": {
    "_uuid": "46bd3ac6a6dfb9e73708302c20cd7091092b596e"
   },
   "source": [
    "After this all the unique words will be reprsented by an integer. For this we are using **one_hot** function from the Keras. Note that the **vocab_size**  is specified large enough so as to ensure **unique integer encoding**  for each and every word.\n",
    "\n",
    "**Note one important thing that the integer encoding for the word remains same in different docs. eg 'butter' is  denoted by 31 in each and every document.**"
   ]
  },
  {
   "cell_type": "code",
   "execution_count": 4,
   "metadata": {
    "_uuid": "04453f82e7bd7cb51c8a2c7d17637218060e398a"
   },
   "outputs": [
    {
     "name": "stdout",
     "output_type": "stream",
     "text": [
      "The encoding for document 1  is :  [8, 5, 16, 41, 24, 41]\n",
      "The encoding for document 2  is :  [12, 1, 41, 24, 41, 34, 16, 41, 49]\n",
      "The encoding for document 3  is :  [5, 46, 5, 43, 39, 41, 43, 14, 1, 49, 41, 39]\n"
     ]
    }
   ],
   "source": [
    "vocab_size=50 \n",
    "encod_corp=[]\n",
    "for i,doc in enumerate(corp):\n",
    "    encod_corp.append(one_hot(doc,50))\n",
    "    print(\"The encoding for document\",i+1,\" is : \",one_hot(doc,50))"
   ]
  },
  {
   "cell_type": "markdown",
   "metadata": {
    "_uuid": "e58da092bf54cc13ea8eedb3b930b5857dc94b40"
   },
   "source": [
    "#### PADDING THE DOCS (to make very doc of same length)"
   ]
  },
  {
   "cell_type": "markdown",
   "metadata": {
    "_uuid": "7dcb24072c22e932b98dcb15f17372430cd715f6"
   },
   "source": [
    "**The Keras Embedding layer requires all individual documents to be of same length.**  Hence we wil pad the shorter documents with 0 for now. Therefore now in Keras Embedding layer the **'input_length'**  will be equal to the length  (ie no of words) of the document with maximum length or maximum number of words.\n",
    "\n",
    "To pad the shorter documents I am using **pad_sequences** functon from the Keras library."
   ]
  },
  {
   "cell_type": "code",
   "execution_count": 5,
   "metadata": {
    "_uuid": "0a0328b18b81c70f0db2dfbb7200fcde3ed665a5"
   },
   "outputs": [
    {
     "name": "stdout",
     "output_type": "stream",
     "text": [
      "The maximum number of words in any document is :  12\n"
     ]
    }
   ],
   "source": [
    "# NLTKを使う前には機能をダウンロードする必要（コマンドプロンプト）\n",
    "# python -c \"import nltk; nltk.download()\"\n",
    "\n",
    "# length of maximum document. will be nedded whenever create embeddings for the words\n",
    "maxlen=-1\n",
    "for doc in corp:\n",
    "    tokens=nltk.word_tokenize(doc)\n",
    "    if(maxlen<len(tokens)):\n",
    "        maxlen=len(tokens)\n",
    "print(\"The maximum number of words in any document is : \",maxlen)"
   ]
  },
  {
   "cell_type": "code",
   "execution_count": 6,
   "metadata": {
    "_uuid": "22c873edc5421b21eec6419948d0e82d465c6373"
   },
   "outputs": [
    {
     "name": "stdout",
     "output_type": "stream",
     "text": [
      "No of padded documents:  3\n"
     ]
    }
   ],
   "source": [
    "# now to create embeddings all of our docs need to be of same length. hence we can pad the docs with zeros.\n",
    "pad_corp=pad_sequences(encod_corp,maxlen=maxlen,padding='post',value=0.0)\n",
    "print(\"No of padded documents: \",len(pad_corp))"
   ]
  },
  {
   "cell_type": "code",
   "execution_count": 7,
   "metadata": {
    "_uuid": "f3cfbb0c557cd741bde8678dbab207590ea57960"
   },
   "outputs": [
    {
     "name": "stdout",
     "output_type": "stream",
     "text": [
      "The padded encoding for document 1  is :  [ 8  5 16 41 24 41  0  0  0  0  0  0]\n",
      "The padded encoding for document 2  is :  [12  1 41 24 41 34 16 41 49  0  0  0]\n",
      "The padded encoding for document 3  is :  [ 5 46  5 43 39 41 43 14  1 49 41 39]\n"
     ]
    }
   ],
   "source": [
    "for i,doc in enumerate(pad_corp):\n",
    "     print(\"The padded encoding for document\",i+1,\" is : \",doc)"
   ]
  },
  {
   "cell_type": "markdown",
   "metadata": {
    "_uuid": "95e0fa1b14f37562d504ef5b093e7d3812a26868"
   },
   "source": [
    "#### ACTUALLY CREATING THE EMBEDDINGS using KERAS EMBEDDING LAYER"
   ]
  },
  {
   "cell_type": "markdown",
   "metadata": {
    "_uuid": "bb781af84c8e51a23241415749cb2bd1834f9676"
   },
   "source": [
    "Now all the documents are of same length (after padding). And so now we are ready to create and use the embeddings.\n",
    "\n",
    "**I will embed the words into vectors of 8 dimensions.**"
   ]
  },
  {
   "cell_type": "code",
   "execution_count": 8,
   "metadata": {
    "_uuid": "bdbc0bd1f475e8f6026b24e99fe8b353d226978c"
   },
   "outputs": [],
   "source": [
    "# specifying the input shape\n",
    "input=Input(shape=(no_docs,maxlen),dtype='float64')"
   ]
  },
  {
   "cell_type": "code",
   "execution_count": 9,
   "metadata": {
    "_uuid": "6a2d829400ece99acebacbba69845fd999142f54"
   },
   "outputs": [],
   "source": [
    "'''\n",
    "shape of input. \n",
    "each document has 12 element or words which is the value of our maxlen variable.\n",
    "\n",
    "'''\n",
    "word_input=Input(shape=(maxlen,),dtype='float64')  \n",
    "\n",
    "# creating the embedding\n",
    "word_embedding=Embedding(input_dim=vocab_size,output_dim=8,input_length=maxlen)(word_input)\n",
    "\n",
    "word_vec=Flatten()(word_embedding) # flatten\n",
    "embed_model =Model([word_input],word_vec) # combining all into a Keras model"
   ]
  },
  {
   "cell_type": "markdown",
   "metadata": {
    "_uuid": "c71ce6d1c9719ed627989d985168f65129f6d9c6"
   },
   "source": [
    "**PARAMETERS OF THE EMBEDDING LAYER --- **\n",
    "\n",
    "**'input_dim' = the vocab size that we will choose**. \n",
    "In other words it is the number of unique words in the vocab.\n",
    "\n",
    "**'output_dim'  = the number of dimensions we wish to embed into**. Each word will be represented by a vector of this much dimensions.\n",
    "\n",
    "**'input_length' = lenght of the maximum document**. which is stored in maxlen variable in our case."
   ]
  },
  {
   "cell_type": "code",
   "execution_count": 10,
   "metadata": {
    "_uuid": "68bc772020f0fbcefe2a67e9d0422678522c6868"
   },
   "outputs": [],
   "source": [
    "embed_model.compile(optimizer=keras.optimizers.Adam(lr=1e-3),loss='binary_crossentropy',metrics=['acc']) \n",
    "# compiling the model. parameters can be tuned as always."
   ]
  },
  {
   "cell_type": "code",
   "execution_count": 11,
   "metadata": {
    "_uuid": "cb509558221ab7e1df170340ac035af9f029f0f5"
   },
   "outputs": [
    {
     "name": "stdout",
     "output_type": "stream",
     "text": [
      "<class 'tensorflow.python.framework.ops.Tensor'>\n",
      "Tensor(\"embedding_1/embedding_lookup/Identity:0\", shape=(?, 12, 8), dtype=float32)\n"
     ]
    }
   ],
   "source": [
    "print(type(word_embedding))\n",
    "print(word_embedding)"
   ]
  },
  {
   "cell_type": "code",
   "execution_count": 12,
   "metadata": {
    "_uuid": "0215812fb65979237ade681faa50af16ed1f0ac3"
   },
   "outputs": [
    {
     "name": "stdout",
     "output_type": "stream",
     "text": [
      "_________________________________________________________________\n",
      "Layer (type)                 Output Shape              Param #   \n",
      "=================================================================\n",
      "input_2 (InputLayer)         (None, 12)                0         \n",
      "_________________________________________________________________\n",
      "embedding_1 (Embedding)      (None, 12, 8)             400       \n",
      "_________________________________________________________________\n",
      "flatten_1 (Flatten)          (None, 96)                0         \n",
      "=================================================================\n",
      "Total params: 400\n",
      "Trainable params: 400\n",
      "Non-trainable params: 0\n",
      "_________________________________________________________________\n",
      "None\n"
     ]
    }
   ],
   "source": [
    "print(embed_model.summary()) # summary of the model"
   ]
  },
  {
   "cell_type": "code",
   "execution_count": 13,
   "metadata": {
    "_uuid": "59db72f4b3c25b426087731f16317e24bf219e76"
   },
   "outputs": [],
   "source": [
    "embeddings=embed_model.predict(pad_corp) # finally getting the embeddings."
   ]
  },
  {
   "cell_type": "code",
   "execution_count": 14,
   "metadata": {
    "_uuid": "c7d5ce3b7afd01b2afc9ba6bd9beb5269cdb5d68"
   },
   "outputs": [
    {
     "name": "stdout",
     "output_type": "stream",
     "text": [
      "Shape of embeddings :  (3, 96)\n",
      "[[-0.00798076  0.0313409  -0.00301447  0.00809293 -0.02968745 -0.00517676\n",
      "  -0.02681291  0.04317598  0.03214213 -0.01250185  0.01597461  0.02782363\n",
      "  -0.00965524  0.03707019 -0.02250663  0.0085059  -0.00493412 -0.03896309\n",
      "   0.00184975 -0.01507818 -0.0399286  -0.03332774  0.0140803   0.03430511\n",
      "   0.00570917  0.01337161 -0.03935757  0.01013473 -0.00529276 -0.01028694\n",
      "  -0.02170806  0.02796694  0.01312611  0.00833367  0.03557033 -0.00641775\n",
      "  -0.04823619 -0.04309995 -0.04846543  0.03052444  0.00570917  0.01337161\n",
      "  -0.03935757  0.01013473 -0.00529276 -0.01028694 -0.02170806  0.02796694\n",
      "   0.04741896  0.00793282  0.03998533 -0.04423212 -0.03249867  0.04317031\n",
      "  -0.02053561 -0.03139221  0.04741896  0.00793282  0.03998533 -0.04423212\n",
      "  -0.03249867  0.04317031 -0.02053561 -0.03139221  0.04741896  0.00793282\n",
      "   0.03998533 -0.04423212 -0.03249867  0.04317031 -0.02053561 -0.03139221\n",
      "   0.04741896  0.00793282  0.03998533 -0.04423212 -0.03249867  0.04317031\n",
      "  -0.02053561 -0.03139221  0.04741896  0.00793282  0.03998533 -0.04423212\n",
      "  -0.03249867  0.04317031 -0.02053561 -0.03139221  0.04741896  0.00793282\n",
      "   0.03998533 -0.04423212 -0.03249867  0.04317031 -0.02053561 -0.03139221]\n",
      " [ 0.04926542  0.01742228 -0.04310949  0.01700662  0.04977592 -0.02371849\n",
      "   0.00460811  0.04272092  0.02371099 -0.04102061  0.03243059 -0.03407665\n",
      "   0.02817208 -0.01286737 -0.00888665  0.0123534   0.00570917  0.01337161\n",
      "  -0.03935757  0.01013473 -0.00529276 -0.01028694 -0.02170806  0.02796694\n",
      "   0.01312611  0.00833367  0.03557033 -0.00641775 -0.04823619 -0.04309995\n",
      "  -0.04846543  0.03052444  0.00570917  0.01337161 -0.03935757  0.01013473\n",
      "  -0.00529276 -0.01028694 -0.02170806  0.02796694 -0.01520513  0.01605251\n",
      "  -0.02579343 -0.03998805 -0.04348684  0.00598513  0.00181885  0.03046783\n",
      "  -0.00493412 -0.03896309  0.00184975 -0.01507818 -0.0399286  -0.03332774\n",
      "   0.0140803   0.03430511  0.00570917  0.01337161 -0.03935757  0.01013473\n",
      "  -0.00529276 -0.01028694 -0.02170806  0.02796694 -0.00493484 -0.00558182\n",
      "   0.04600253 -0.00259709  0.00664747  0.03374111  0.02588635  0.02339349\n",
      "   0.04741896  0.00793282  0.03998533 -0.04423212 -0.03249867  0.04317031\n",
      "  -0.02053561 -0.03139221  0.04741896  0.00793282  0.03998533 -0.04423212\n",
      "  -0.03249867  0.04317031 -0.02053561 -0.03139221  0.04741896  0.00793282\n",
      "   0.03998533 -0.04423212 -0.03249867  0.04317031 -0.02053561 -0.03139221]\n",
      " [ 0.03214213 -0.01250185  0.01597461  0.02782363 -0.00965524  0.03707019\n",
      "  -0.02250663  0.0085059  -0.02497528  0.04898546  0.04089466 -0.04038095\n",
      "   0.03991269 -0.04719547 -0.03268673 -0.00016697  0.03214213 -0.01250185\n",
      "   0.01597461  0.02782363 -0.00965524  0.03707019 -0.02250663  0.0085059\n",
      "  -0.02299736 -0.02584311 -0.02013917 -0.02176633  0.03307805 -0.0157912\n",
      "   0.02658183 -0.01431374 -0.02828803  0.03429921  0.03146533  0.03094034\n",
      "  -0.00041924 -0.01980764 -0.04475253  0.00127552  0.00570917  0.01337161\n",
      "  -0.03935757  0.01013473 -0.00529276 -0.01028694 -0.02170806  0.02796694\n",
      "  -0.02299736 -0.02584311 -0.02013917 -0.02176633  0.03307805 -0.0157912\n",
      "   0.02658183 -0.01431374  0.03258102  0.01633103  0.03857945  0.00276764\n",
      "   0.01676882 -0.02352456  0.04945994  0.04051197  0.02371099 -0.04102061\n",
      "   0.03243059 -0.03407665  0.02817208 -0.01286737 -0.00888665  0.0123534\n",
      "  -0.00493484 -0.00558182  0.04600253 -0.00259709  0.00664747  0.03374111\n",
      "   0.02588635  0.02339349  0.00570917  0.01337161 -0.03935757  0.01013473\n",
      "  -0.00529276 -0.01028694 -0.02170806  0.02796694 -0.02828803  0.03429921\n",
      "   0.03146533  0.03094034 -0.00041924 -0.01980764 -0.04475253  0.00127552]]\n"
     ]
    }
   ],
   "source": [
    "print(\"Shape of embeddings : \",embeddings.shape)\n",
    "print(embeddings)"
   ]
  },
  {
   "cell_type": "code",
   "execution_count": 15,
   "metadata": {
    "_uuid": "1ce0944cbfab1c714c74ccc06f8eb1a846411ca8"
   },
   "outputs": [
    {
     "name": "stdout",
     "output_type": "stream",
     "text": [
      "Shape of embeddings :  (3, 12, 8)\n",
      "[[[-0.00798076  0.0313409  -0.00301447  0.00809293 -0.02968745\n",
      "   -0.00517676 -0.02681291  0.04317598]\n",
      "  [ 0.03214213 -0.01250185  0.01597461  0.02782363 -0.00965524\n",
      "    0.03707019 -0.02250663  0.0085059 ]\n",
      "  [-0.00493412 -0.03896309  0.00184975 -0.01507818 -0.0399286\n",
      "   -0.03332774  0.0140803   0.03430511]\n",
      "  [ 0.00570917  0.01337161 -0.03935757  0.01013473 -0.00529276\n",
      "   -0.01028694 -0.02170806  0.02796694]\n",
      "  [ 0.01312611  0.00833367  0.03557033 -0.00641775 -0.04823619\n",
      "   -0.04309995 -0.04846543  0.03052444]\n",
      "  [ 0.00570917  0.01337161 -0.03935757  0.01013473 -0.00529276\n",
      "   -0.01028694 -0.02170806  0.02796694]\n",
      "  [ 0.04741896  0.00793282  0.03998533 -0.04423212 -0.03249867\n",
      "    0.04317031 -0.02053561 -0.03139221]\n",
      "  [ 0.04741896  0.00793282  0.03998533 -0.04423212 -0.03249867\n",
      "    0.04317031 -0.02053561 -0.03139221]\n",
      "  [ 0.04741896  0.00793282  0.03998533 -0.04423212 -0.03249867\n",
      "    0.04317031 -0.02053561 -0.03139221]\n",
      "  [ 0.04741896  0.00793282  0.03998533 -0.04423212 -0.03249867\n",
      "    0.04317031 -0.02053561 -0.03139221]\n",
      "  [ 0.04741896  0.00793282  0.03998533 -0.04423212 -0.03249867\n",
      "    0.04317031 -0.02053561 -0.03139221]\n",
      "  [ 0.04741896  0.00793282  0.03998533 -0.04423212 -0.03249867\n",
      "    0.04317031 -0.02053561 -0.03139221]]\n",
      "\n",
      " [[ 0.04926542  0.01742228 -0.04310949  0.01700662  0.04977592\n",
      "   -0.02371849  0.00460811  0.04272092]\n",
      "  [ 0.02371099 -0.04102061  0.03243059 -0.03407665  0.02817208\n",
      "   -0.01286737 -0.00888665  0.0123534 ]\n",
      "  [ 0.00570917  0.01337161 -0.03935757  0.01013473 -0.00529276\n",
      "   -0.01028694 -0.02170806  0.02796694]\n",
      "  [ 0.01312611  0.00833367  0.03557033 -0.00641775 -0.04823619\n",
      "   -0.04309995 -0.04846543  0.03052444]\n",
      "  [ 0.00570917  0.01337161 -0.03935757  0.01013473 -0.00529276\n",
      "   -0.01028694 -0.02170806  0.02796694]\n",
      "  [-0.01520513  0.01605251 -0.02579343 -0.03998805 -0.04348684\n",
      "    0.00598513  0.00181885  0.03046783]\n",
      "  [-0.00493412 -0.03896309  0.00184975 -0.01507818 -0.0399286\n",
      "   -0.03332774  0.0140803   0.03430511]\n",
      "  [ 0.00570917  0.01337161 -0.03935757  0.01013473 -0.00529276\n",
      "   -0.01028694 -0.02170806  0.02796694]\n",
      "  [-0.00493484 -0.00558182  0.04600253 -0.00259709  0.00664747\n",
      "    0.03374111  0.02588635  0.02339349]\n",
      "  [ 0.04741896  0.00793282  0.03998533 -0.04423212 -0.03249867\n",
      "    0.04317031 -0.02053561 -0.03139221]\n",
      "  [ 0.04741896  0.00793282  0.03998533 -0.04423212 -0.03249867\n",
      "    0.04317031 -0.02053561 -0.03139221]\n",
      "  [ 0.04741896  0.00793282  0.03998533 -0.04423212 -0.03249867\n",
      "    0.04317031 -0.02053561 -0.03139221]]\n",
      "\n",
      " [[ 0.03214213 -0.01250185  0.01597461  0.02782363 -0.00965524\n",
      "    0.03707019 -0.02250663  0.0085059 ]\n",
      "  [-0.02497528  0.04898546  0.04089466 -0.04038095  0.03991269\n",
      "   -0.04719547 -0.03268673 -0.00016697]\n",
      "  [ 0.03214213 -0.01250185  0.01597461  0.02782363 -0.00965524\n",
      "    0.03707019 -0.02250663  0.0085059 ]\n",
      "  [-0.02299736 -0.02584311 -0.02013917 -0.02176633  0.03307805\n",
      "   -0.0157912   0.02658183 -0.01431374]\n",
      "  [-0.02828803  0.03429921  0.03146533  0.03094034 -0.00041924\n",
      "   -0.01980764 -0.04475253  0.00127552]\n",
      "  [ 0.00570917  0.01337161 -0.03935757  0.01013473 -0.00529276\n",
      "   -0.01028694 -0.02170806  0.02796694]\n",
      "  [-0.02299736 -0.02584311 -0.02013917 -0.02176633  0.03307805\n",
      "   -0.0157912   0.02658183 -0.01431374]\n",
      "  [ 0.03258102  0.01633103  0.03857945  0.00276764  0.01676882\n",
      "   -0.02352456  0.04945994  0.04051197]\n",
      "  [ 0.02371099 -0.04102061  0.03243059 -0.03407665  0.02817208\n",
      "   -0.01286737 -0.00888665  0.0123534 ]\n",
      "  [-0.00493484 -0.00558182  0.04600253 -0.00259709  0.00664747\n",
      "    0.03374111  0.02588635  0.02339349]\n",
      "  [ 0.00570917  0.01337161 -0.03935757  0.01013473 -0.00529276\n",
      "   -0.01028694 -0.02170806  0.02796694]\n",
      "  [-0.02828803  0.03429921  0.03146533  0.03094034 -0.00041924\n",
      "   -0.01980764 -0.04475253  0.00127552]]]\n"
     ]
    }
   ],
   "source": [
    "embeddings=embeddings.reshape(-1,maxlen,8)\n",
    "print(\"Shape of embeddings : \",embeddings.shape) \n",
    "print(embeddings)"
   ]
  },
  {
   "cell_type": "markdown",
   "metadata": {
    "_uuid": "d7cd46a4aaa6d7d1f43a81202add33c5b7f3b528"
   },
   "source": [
    "The resulting shape is (3,12,8).\n",
    "\n",
    "**3---> no of documents**\n",
    "\n",
    "**12---> each document is made of 12 words which was our maximum length of any document.**\n",
    "\n",
    "**& 8---> each word is 8 dimensional.**\n",
    "\n",
    " "
   ]
  },
  {
   "cell_type": "markdown",
   "metadata": {
    "_uuid": "d8862c2ce0926f3fc06b813faa35d06ce72e87b6"
   },
   "source": [
    "#### GETTING ENCODING FOR A PARTICULAR WORD IN A SPECIFIC DOCUMENT"
   ]
  },
  {
   "cell_type": "code",
   "execution_count": 16,
   "metadata": {
    "_uuid": "6ac216640a7db94d9794a88256851d4e1e0c8858"
   },
   "outputs": [
    {
     "name": "stdout",
     "output_type": "stream",
     "text": [
      "The encoding for  1 th word in 1 th document is : \n",
      "\n",
      " [-0.00798076  0.0313409  -0.00301447  0.00809293 -0.02968745 -0.00517676\n",
      " -0.02681291  0.04317598]\n",
      "The encoding for  2 th word in 1 th document is : \n",
      "\n",
      " [ 0.03214213 -0.01250185  0.01597461  0.02782363 -0.00965524  0.03707019\n",
      " -0.02250663  0.0085059 ]\n",
      "The encoding for  3 th word in 1 th document is : \n",
      "\n",
      " [-0.00493412 -0.03896309  0.00184975 -0.01507818 -0.0399286  -0.03332774\n",
      "  0.0140803   0.03430511]\n",
      "The encoding for  4 th word in 1 th document is : \n",
      "\n",
      " [ 0.00570917  0.01337161 -0.03935757  0.01013473 -0.00529276 -0.01028694\n",
      " -0.02170806  0.02796694]\n",
      "The encoding for  5 th word in 1 th document is : \n",
      "\n",
      " [ 0.01312611  0.00833367  0.03557033 -0.00641775 -0.04823619 -0.04309995\n",
      " -0.04846543  0.03052444]\n",
      "The encoding for  6 th word in 1 th document is : \n",
      "\n",
      " [ 0.00570917  0.01337161 -0.03935757  0.01013473 -0.00529276 -0.01028694\n",
      " -0.02170806  0.02796694]\n",
      "The encoding for  7 th word in 1 th document is : \n",
      "\n",
      " [ 0.04741896  0.00793282  0.03998533 -0.04423212 -0.03249867  0.04317031\n",
      " -0.02053561 -0.03139221]\n",
      "The encoding for  8 th word in 1 th document is : \n",
      "\n",
      " [ 0.04741896  0.00793282  0.03998533 -0.04423212 -0.03249867  0.04317031\n",
      " -0.02053561 -0.03139221]\n",
      "The encoding for  9 th word in 1 th document is : \n",
      "\n",
      " [ 0.04741896  0.00793282  0.03998533 -0.04423212 -0.03249867  0.04317031\n",
      " -0.02053561 -0.03139221]\n",
      "The encoding for  10 th word in 1 th document is : \n",
      "\n",
      " [ 0.04741896  0.00793282  0.03998533 -0.04423212 -0.03249867  0.04317031\n",
      " -0.02053561 -0.03139221]\n",
      "The encoding for  11 th word in 1 th document is : \n",
      "\n",
      " [ 0.04741896  0.00793282  0.03998533 -0.04423212 -0.03249867  0.04317031\n",
      " -0.02053561 -0.03139221]\n",
      "The encoding for  12 th word in 1 th document is : \n",
      "\n",
      " [ 0.04741896  0.00793282  0.03998533 -0.04423212 -0.03249867  0.04317031\n",
      " -0.02053561 -0.03139221]\n",
      "The encoding for  1 th word in 2 th document is : \n",
      "\n",
      " [ 0.04926542  0.01742228 -0.04310949  0.01700662  0.04977592 -0.02371849\n",
      "  0.00460811  0.04272092]\n",
      "The encoding for  2 th word in 2 th document is : \n",
      "\n",
      " [ 0.02371099 -0.04102061  0.03243059 -0.03407665  0.02817208 -0.01286737\n",
      " -0.00888665  0.0123534 ]\n",
      "The encoding for  3 th word in 2 th document is : \n",
      "\n",
      " [ 0.00570917  0.01337161 -0.03935757  0.01013473 -0.00529276 -0.01028694\n",
      " -0.02170806  0.02796694]\n",
      "The encoding for  4 th word in 2 th document is : \n",
      "\n",
      " [ 0.01312611  0.00833367  0.03557033 -0.00641775 -0.04823619 -0.04309995\n",
      " -0.04846543  0.03052444]\n",
      "The encoding for  5 th word in 2 th document is : \n",
      "\n",
      " [ 0.00570917  0.01337161 -0.03935757  0.01013473 -0.00529276 -0.01028694\n",
      " -0.02170806  0.02796694]\n",
      "The encoding for  6 th word in 2 th document is : \n",
      "\n",
      " [-0.01520513  0.01605251 -0.02579343 -0.03998805 -0.04348684  0.00598513\n",
      "  0.00181885  0.03046783]\n",
      "The encoding for  7 th word in 2 th document is : \n",
      "\n",
      " [-0.00493412 -0.03896309  0.00184975 -0.01507818 -0.0399286  -0.03332774\n",
      "  0.0140803   0.03430511]\n",
      "The encoding for  8 th word in 2 th document is : \n",
      "\n",
      " [ 0.00570917  0.01337161 -0.03935757  0.01013473 -0.00529276 -0.01028694\n",
      " -0.02170806  0.02796694]\n",
      "The encoding for  9 th word in 2 th document is : \n",
      "\n",
      " [-0.00493484 -0.00558182  0.04600253 -0.00259709  0.00664747  0.03374111\n",
      "  0.02588635  0.02339349]\n",
      "The encoding for  10 th word in 2 th document is : \n",
      "\n",
      " [ 0.04741896  0.00793282  0.03998533 -0.04423212 -0.03249867  0.04317031\n",
      " -0.02053561 -0.03139221]\n",
      "The encoding for  11 th word in 2 th document is : \n",
      "\n",
      " [ 0.04741896  0.00793282  0.03998533 -0.04423212 -0.03249867  0.04317031\n",
      " -0.02053561 -0.03139221]\n",
      "The encoding for  12 th word in 2 th document is : \n",
      "\n",
      " [ 0.04741896  0.00793282  0.03998533 -0.04423212 -0.03249867  0.04317031\n",
      " -0.02053561 -0.03139221]\n",
      "The encoding for  1 th word in 3 th document is : \n",
      "\n",
      " [ 0.03214213 -0.01250185  0.01597461  0.02782363 -0.00965524  0.03707019\n",
      " -0.02250663  0.0085059 ]\n",
      "The encoding for  2 th word in 3 th document is : \n",
      "\n",
      " [-0.02497528  0.04898546  0.04089466 -0.04038095  0.03991269 -0.04719547\n",
      " -0.03268673 -0.00016697]\n",
      "The encoding for  3 th word in 3 th document is : \n",
      "\n",
      " [ 0.03214213 -0.01250185  0.01597461  0.02782363 -0.00965524  0.03707019\n",
      " -0.02250663  0.0085059 ]\n",
      "The encoding for  4 th word in 3 th document is : \n",
      "\n",
      " [-0.02299736 -0.02584311 -0.02013917 -0.02176633  0.03307805 -0.0157912\n",
      "  0.02658183 -0.01431374]\n",
      "The encoding for  5 th word in 3 th document is : \n",
      "\n",
      " [-0.02828803  0.03429921  0.03146533  0.03094034 -0.00041924 -0.01980764\n",
      " -0.04475253  0.00127552]\n",
      "The encoding for  6 th word in 3 th document is : \n",
      "\n",
      " [ 0.00570917  0.01337161 -0.03935757  0.01013473 -0.00529276 -0.01028694\n",
      " -0.02170806  0.02796694]\n",
      "The encoding for  7 th word in 3 th document is : \n",
      "\n",
      " [-0.02299736 -0.02584311 -0.02013917 -0.02176633  0.03307805 -0.0157912\n",
      "  0.02658183 -0.01431374]\n",
      "The encoding for  8 th word in 3 th document is : \n",
      "\n",
      " [ 0.03258102  0.01633103  0.03857945  0.00276764  0.01676882 -0.02352456\n",
      "  0.04945994  0.04051197]\n",
      "The encoding for  9 th word in 3 th document is : \n",
      "\n",
      " [ 0.02371099 -0.04102061  0.03243059 -0.03407665  0.02817208 -0.01286737\n",
      " -0.00888665  0.0123534 ]\n",
      "The encoding for  10 th word in 3 th document is : \n",
      "\n",
      " [-0.00493484 -0.00558182  0.04600253 -0.00259709  0.00664747  0.03374111\n",
      "  0.02588635  0.02339349]\n",
      "The encoding for  11 th word in 3 th document is : \n",
      "\n",
      " [ 0.00570917  0.01337161 -0.03935757  0.01013473 -0.00529276 -0.01028694\n",
      " -0.02170806  0.02796694]\n",
      "The encoding for  12 th word in 3 th document is : \n",
      "\n",
      " [-0.02828803  0.03429921  0.03146533  0.03094034 -0.00041924 -0.01980764\n",
      " -0.04475253  0.00127552]\n"
     ]
    }
   ],
   "source": [
    "for i,doc in enumerate(embeddings):\n",
    "    for j,word in enumerate(doc):\n",
    "        print(\"The encoding for \",j+1,\"th word\",\"in\",i+1,\"th document is : \\n\\n\",word)"
   ]
  },
  {
   "cell_type": "markdown",
   "metadata": {
    "_uuid": "19c665f54917a6aca7f65ea2ff7dbc47b96e90db"
   },
   "source": [
    "#### Now this makes it easier to visualize that we have 3(size of corp) documents with each consisting of 12(maxlen) words and each word mapped to a 8-dimensional vector."
   ]
  },
  {
   "cell_type": "markdown",
   "metadata": {
    "_uuid": "fdd3d2fb2fc58e889f78dc63ff31a5d55052c686"
   },
   "source": [
    "#### HOW TO WORK WITH A REAL PIECE OF TEXT"
   ]
  },
  {
   "cell_type": "markdown",
   "metadata": {
    "_uuid": "5d9d15978ec2de3cf27fd52d08ddfd1b756b1a83"
   },
   "source": [
    "Just like above we can now use any other document. We can sent_tokenize the doc into sentences.\n",
    "\n",
    "Each sentence has a list of words which we will integer encode using the 'one_hot' function as below. \n",
    "\n",
    "Now each sentence will be having different number of words. So we will need to pad the sequences to the sentence with maximum words.\n",
    "\n",
    "**At this point we are ready to feed the input to Keras Embedding layer as shown above.**\n",
    "\n",
    "**'input_dim' = the vocab size that we will choose**\n",
    "\n",
    "**'output_dim'  = the number of dimensions we wish to embed into**\n",
    "\n",
    "**'input_length' = lenght of the maximum document**"
   ]
  },
  {
   "cell_type": "markdown",
   "metadata": {
    "_uuid": "8143b2d5460305133b30d1e8e0e70ee70839747f"
   },
   "source": [
    "## THE END !!!"
   ]
  },
  {
   "cell_type": "markdown",
   "metadata": {
    "_uuid": "49efc1cd691c5964f2efa1b46a757b84233dd176"
   },
   "source": [
    "**If you want to see the application of Keras embedding layer on a real task eg text classification then please check out my [this](https://github.com/mrc03/IMDB-Movie-Review-Sentiment-Analysis) repo on Github in which I have used the embeddings to perform sentiment analysis on IMdb movie review dataset.**"
   ]
  },
  {
   "cell_type": "code",
   "execution_count": null,
   "metadata": {
    "_uuid": "82790b65e6ccb380e3470ac3cb05b9793681d811"
   },
   "outputs": [],
   "source": []
  }
 ],
 "metadata": {
  "kernelspec": {
   "display_name": "Python 3",
   "language": "python",
   "name": "python3"
  },
  "language_info": {
   "codemirror_mode": {
    "name": "ipython",
    "version": 3
   },
   "file_extension": ".py",
   "mimetype": "text/x-python",
   "name": "python",
   "nbconvert_exporter": "python",
   "pygments_lexer": "ipython3",
   "version": "3.6.9"
  }
 },
 "nbformat": 4,
 "nbformat_minor": 1
}
