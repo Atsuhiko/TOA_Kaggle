{
 "cells": [
  {
   "cell_type": "code",
   "execution_count": 2,
   "metadata": {},
   "outputs": [],
   "source": [
    "import numpy as np\n",
    "import pandas as pd"
   ]
  },
  {
   "cell_type": "markdown",
   "metadata": {},
   "source": [
    "# import data"
   ]
  },
  {
   "cell_type": "code",
   "execution_count": 3,
   "metadata": {},
   "outputs": [
    {
     "data": {
      "text/html": [
       "<div>\n",
       "<style scoped>\n",
       "    .dataframe tbody tr th:only-of-type {\n",
       "        vertical-align: middle;\n",
       "    }\n",
       "\n",
       "    .dataframe tbody tr th {\n",
       "        vertical-align: top;\n",
       "    }\n",
       "\n",
       "    .dataframe thead th {\n",
       "        text-align: right;\n",
       "    }\n",
       "</style>\n",
       "<table border=\"1\" class=\"dataframe\">\n",
       "  <thead>\n",
       "    <tr style=\"text-align: right;\">\n",
       "      <th></th>\n",
       "      <th>cuisine</th>\n",
       "      <th>id</th>\n",
       "      <th>ingredients</th>\n",
       "    </tr>\n",
       "  </thead>\n",
       "  <tbody>\n",
       "    <tr>\n",
       "      <th>0</th>\n",
       "      <td>greek</td>\n",
       "      <td>10259</td>\n",
       "      <td>[romaine lettuce, black olives, grape tomatoes...</td>\n",
       "    </tr>\n",
       "    <tr>\n",
       "      <th>1</th>\n",
       "      <td>southern_us</td>\n",
       "      <td>25693</td>\n",
       "      <td>[plain flour, ground pepper, salt, tomatoes, g...</td>\n",
       "    </tr>\n",
       "    <tr>\n",
       "      <th>2</th>\n",
       "      <td>filipino</td>\n",
       "      <td>20130</td>\n",
       "      <td>[eggs, pepper, salt, mayonaise, cooking oil, g...</td>\n",
       "    </tr>\n",
       "    <tr>\n",
       "      <th>3</th>\n",
       "      <td>indian</td>\n",
       "      <td>22213</td>\n",
       "      <td>[water, vegetable oil, wheat, salt]</td>\n",
       "    </tr>\n",
       "    <tr>\n",
       "      <th>4</th>\n",
       "      <td>indian</td>\n",
       "      <td>13162</td>\n",
       "      <td>[black pepper, shallots, cornflour, cayenne pe...</td>\n",
       "    </tr>\n",
       "  </tbody>\n",
       "</table>\n",
       "</div>"
      ],
      "text/plain": [
       "       cuisine     id                                        ingredients\n",
       "0        greek  10259  [romaine lettuce, black olives, grape tomatoes...\n",
       "1  southern_us  25693  [plain flour, ground pepper, salt, tomatoes, g...\n",
       "2     filipino  20130  [eggs, pepper, salt, mayonaise, cooking oil, g...\n",
       "3       indian  22213                [water, vegetable oil, wheat, salt]\n",
       "4       indian  13162  [black pepper, shallots, cornflour, cayenne pe..."
      ]
     },
     "execution_count": 3,
     "metadata": {},
     "output_type": "execute_result"
    }
   ],
   "source": [
    "#read json\n",
    "train = pd.read_json(r'C:\\Users\\User\\Downloads\\kaggle\\whats_cooking\\train.json')\n",
    "test = pd.read_json(r'C:\\Users\\User\\Downloads\\kaggle\\whats_cooking\\test.json')\n",
    "train.head()"
   ]
  },
  {
   "cell_type": "markdown",
   "metadata": {},
   "source": [
    "# preproccessing"
   ]
  },
  {
   "cell_type": "code",
   "execution_count": 4,
   "metadata": {},
   "outputs": [],
   "source": [
    "from sklearn.feature_extraction.text import TfidfVectorizer\n",
    "from sklearn.model_selection import train_test_split\n",
    "from sklearn.preprocessing.label import LabelEncoder"
   ]
  },
  {
   "cell_type": "code",
   "execution_count": 5,
   "metadata": {},
   "outputs": [],
   "source": [
    "#transfer list to string\n",
    "train['ingredients'] = train['ingredients'].apply(lambda x : ' '.join(x))\n",
    "test['ingredients'] = test['ingredients'].apply(lambda x : ' '.join(x))"
   ]
  },
  {
   "cell_type": "code",
   "execution_count": 6,
   "metadata": {},
   "outputs": [],
   "source": [
    "#transfer string to vector\n",
    "token = TfidfVectorizer()\n",
    "token.fit(train['ingredients'])\n",
    "datax = token.transform(train['ingredients']).toarray()\n",
    "testdatax = token.transform(test['ingredients']).toarray()"
   ]
  },
  {
   "cell_type": "code",
   "execution_count": 7,
   "metadata": {},
   "outputs": [],
   "source": [
    "#transfer categorical data to numbers\n",
    "lb = LabelEncoder()\n",
    "train['cuisine'] = lb.fit_transform(train['cuisine'])"
   ]
  },
  {
   "cell_type": "code",
   "execution_count": 8,
   "metadata": {},
   "outputs": [
    {
     "data": {
      "text/plain": [
       "{0: 'brazilian',\n",
       " 1: 'british',\n",
       " 2: 'cajun_creole',\n",
       " 3: 'chinese',\n",
       " 4: 'filipino',\n",
       " 5: 'french',\n",
       " 6: 'greek',\n",
       " 7: 'indian',\n",
       " 8: 'irish',\n",
       " 9: 'italian',\n",
       " 10: 'jamaican',\n",
       " 11: 'japanese',\n",
       " 12: 'korean',\n",
       " 13: 'mexican',\n",
       " 14: 'moroccan',\n",
       " 15: 'russian',\n",
       " 16: 'southern_us',\n",
       " 17: 'spanish',\n",
       " 18: 'thai',\n",
       " 19: 'vietnamese'}"
      ]
     },
     "execution_count": 8,
     "metadata": {},
     "output_type": "execute_result"
    }
   ],
   "source": [
    "#number dict\n",
    "category_dict = {i:j for i,j in enumerate(lb.classes_)}\n",
    "category_dict"
   ]
  },
  {
   "cell_type": "code",
   "execution_count": 9,
   "metadata": {},
   "outputs": [],
   "source": [
    "#train/test split\n",
    "datay = train['cuisine'].values\n",
    "train_x,test_x,train_y,test_y = train_test_split(datax,datay,test_size=0.01,random_state=0)"
   ]
  },
  {
   "cell_type": "markdown",
   "metadata": {},
   "source": [
    "# model(Keras)"
   ]
  },
  {
   "cell_type": "code",
   "execution_count": 10,
   "metadata": {},
   "outputs": [],
   "source": [
    "from tensorflow.keras import Sequential\n",
    "from tensorflow.keras.layers import Dense,Dropout,BatchNormalization"
   ]
  },
  {
   "cell_type": "code",
   "execution_count": 22,
   "metadata": {},
   "outputs": [
    {
     "name": "stdout",
     "output_type": "stream",
     "text": [
      "Model: \"sequential_3\"\n",
      "_________________________________________________________________\n",
      "Layer (type)                 Output Shape              Param #   \n",
      "=================================================================\n",
      "batch_normalization_3 (Batch (None, 3034)              12136     \n",
      "_________________________________________________________________\n",
      "dense_14 (Dense)             (None, 2048)              6215680   \n",
      "_________________________________________________________________\n",
      "dropout_11 (Dropout)         (None, 2048)              0         \n",
      "_________________________________________________________________\n",
      "dense_15 (Dense)             (None, 512)               1049088   \n",
      "_________________________________________________________________\n",
      "dropout_12 (Dropout)         (None, 512)               0         \n",
      "_________________________________________________________________\n",
      "dense_16 (Dense)             (None, 128)               65664     \n",
      "_________________________________________________________________\n",
      "dropout_13 (Dropout)         (None, 128)               0         \n",
      "_________________________________________________________________\n",
      "dense_17 (Dense)             (None, 20)                2580      \n",
      "=================================================================\n",
      "Total params: 7,345,148\n",
      "Trainable params: 7,339,080\n",
      "Non-trainable params: 6,068\n",
      "_________________________________________________________________\n"
     ]
    }
   ],
   "source": [
    "model_dl = Sequential()\n",
    "model_dl.add(BatchNormalization(input_shape=(3034,)))\n",
    "model_dl.add(Dense(2048,activation='relu'))\n",
    "model_dl.add(Dropout(0.5))\n",
    "model_dl.add(Dense(512,activation='relu'))\n",
    "model_dl.add(Dropout(0.5))\n",
    "model_dl.add(Dense(128,activation='relu'))\n",
    "model_dl.add(Dropout(0.5))\n",
    "model_dl.add(Dense(20,activation='softmax'))\n",
    "model_dl.summary()"
   ]
  },
  {
   "cell_type": "code",
   "execution_count": 24,
   "metadata": {},
   "outputs": [],
   "source": [
    "model_dl.compile('adam',loss='sparse_categorical_crossentropy',metrics=['sparse_categorical_accuracy'])"
   ]
  },
  {
   "cell_type": "code",
   "execution_count": 25,
   "metadata": {},
   "outputs": [
    {
     "name": "stdout",
     "output_type": "stream",
     "text": [
      "Train on 39376 samples, validate on 398 samples\n",
      "Epoch 1/15\n",
      "39376/39376 [==============================] - 15s 387us/sample - loss: 1.8447 - sparse_categorical_accuracy: 0.4811 - val_loss: 2.6213 - val_sparse_categorical_accuracy: 0.7111\n",
      "Epoch 2/15\n",
      "39376/39376 [==============================] - 16s 402us/sample - loss: 1.0516 - sparse_categorical_accuracy: 0.7019 - val_loss: 2.5212 - val_sparse_categorical_accuracy: 0.6508\n",
      "Epoch 3/15\n",
      "39376/39376 [==============================] - 12s 292us/sample - loss: 0.8421 - sparse_categorical_accuracy: 0.7600 - val_loss: 2.4743 - val_sparse_categorical_accuracy: 0.7060\n",
      "Epoch 4/15\n",
      "39376/39376 [==============================] - 13s 320us/sample - loss: 0.7063 - sparse_categorical_accuracy: 0.7976 - val_loss: 2.5084 - val_sparse_categorical_accuracy: 0.6910\n",
      "Epoch 5/15\n",
      "39376/39376 [==============================] - 12s 305us/sample - loss: 0.6135 - sparse_categorical_accuracy: 0.8201 - val_loss: 2.5713 - val_sparse_categorical_accuracy: 0.6030\n",
      "Epoch 6/15\n",
      "39376/39376 [==============================] - 12s 305us/sample - loss: 0.5286 - sparse_categorical_accuracy: 0.8445 - val_loss: 2.5858 - val_sparse_categorical_accuracy: 0.7513\n",
      "Epoch 7/15\n",
      "39376/39376 [==============================] - 12s 304us/sample - loss: 0.4565 - sparse_categorical_accuracy: 0.8662 - val_loss: 2.5230 - val_sparse_categorical_accuracy: 0.7186\n",
      "Epoch 8/15\n",
      "39376/39376 [==============================] - 12s 301us/sample - loss: 0.3901 - sparse_categorical_accuracy: 0.8843 - val_loss: 2.3497 - val_sparse_categorical_accuracy: 0.7889\n",
      "Epoch 9/15\n",
      "39376/39376 [==============================] - 12s 317us/sample - loss: 0.3414 - sparse_categorical_accuracy: 0.8971 - val_loss: 2.0441 - val_sparse_categorical_accuracy: 0.7739\n",
      "Epoch 10/15\n",
      "39376/39376 [==============================] - 13s 329us/sample - loss: 0.3011 - sparse_categorical_accuracy: 0.9091 - val_loss: 1.7715 - val_sparse_categorical_accuracy: 0.8116\n",
      "Epoch 11/15\n",
      "39376/39376 [==============================] - 12s 310us/sample - loss: 0.2574 - sparse_categorical_accuracy: 0.9233 - val_loss: 1.2769 - val_sparse_categorical_accuracy: 0.8166\n",
      "Epoch 12/15\n",
      "39376/39376 [==============================] - 13s 329us/sample - loss: 0.2256 - sparse_categorical_accuracy: 0.9322 - val_loss: 0.9514 - val_sparse_categorical_accuracy: 0.8317\n",
      "Epoch 13/15\n",
      "39376/39376 [==============================] - 13s 340us/sample - loss: 0.2008 - sparse_categorical_accuracy: 0.9381 - val_loss: 0.7365 - val_sparse_categorical_accuracy: 0.8116\n",
      "Epoch 14/15\n",
      "39376/39376 [==============================] - 12s 314us/sample - loss: 0.1774 - sparse_categorical_accuracy: 0.9461 - val_loss: 0.6398 - val_sparse_categorical_accuracy: 0.8518\n",
      "Epoch 15/15\n",
      "39376/39376 [==============================] - 15s 372us/sample - loss: 0.1680 - sparse_categorical_accuracy: 0.9499 - val_loss: 0.6058 - val_sparse_categorical_accuracy: 0.8367\n"
     ]
    },
    {
     "data": {
      "text/plain": [
       "<tensorflow.python.keras.callbacks.History at 0x12ea539f908>"
      ]
     },
     "execution_count": 25,
     "metadata": {},
     "output_type": "execute_result"
    }
   ],
   "source": [
    "model_dl.fit(train_x,train_y,batch_size=1000,epochs=15,validation_data=[test_x,test_y])"
   ]
  },
  {
   "cell_type": "code",
   "execution_count": 26,
   "metadata": {},
   "outputs": [],
   "source": [
    "pred = model_dl.predict_classes(testdatax)"
   ]
  },
  {
   "cell_type": "code",
   "execution_count": 27,
   "metadata": {},
   "outputs": [],
   "source": [
    "pred_df = pd.DataFrame([])\n",
    "pred_df['id'] = test['id']\n",
    "pred_df['cuisine'] = pred\n",
    "pred_df['cuisine'] = pred_df['cuisine'].map(category_dict)\n",
    "\n",
    "sub = pd.read_csv(r'C:\\Users\\User\\Downloads\\kaggle\\whats_cooking\\sample_submission.csv')\n",
    "sub = sub[['id']]\n",
    "sub = sub.merge(pred_df)\n",
    "sub.to_csv(r'C:\\Users\\User\\Downloads\\kaggle\\whats_cooking\\sample_submission.csv',index=False)"
   ]
  },
  {
   "cell_type": "markdown",
   "metadata": {},
   "source": [
    "# dirty fitting"
   ]
  },
  {
   "cell_type": "code",
   "execution_count": 29,
   "metadata": {},
   "outputs": [
    {
     "name": "stdout",
     "output_type": "stream",
     "text": [
      "Epoch 1/15\n",
      "39774/39774 [==============================] - 14s 355us/sample - loss: 1.8079 - sparse_categorical_accuracy: 0.4971\n",
      "Epoch 2/15\n",
      "39774/39774 [==============================] - 11s 286us/sample - loss: 1.0598 - sparse_categorical_accuracy: 0.6996\n",
      "Epoch 3/15\n",
      "39774/39774 [==============================] - 11s 271us/sample - loss: 0.8317 - sparse_categorical_accuracy: 0.7616\n",
      "Epoch 4/15\n",
      "39774/39774 [==============================] - 11s 268us/sample - loss: 0.7025 - sparse_categorical_accuracy: 0.7953\n",
      "Epoch 5/15\n",
      "39774/39774 [==============================] - 11s 275us/sample - loss: 0.5975 - sparse_categorical_accuracy: 0.8249\n",
      "Epoch 6/15\n",
      "39774/39774 [==============================] - 11s 284us/sample - loss: 0.5234 - sparse_categorical_accuracy: 0.8471\n",
      "Epoch 7/15\n",
      "39774/39774 [==============================] - 11s 274us/sample - loss: 0.4467 - sparse_categorical_accuracy: 0.8672\n",
      "Epoch 8/15\n",
      "39774/39774 [==============================] - 11s 268us/sample - loss: 0.3860 - sparse_categorical_accuracy: 0.8839\n",
      "Epoch 9/15\n",
      "39774/39774 [==============================] - 12s 301us/sample - loss: 0.3326 - sparse_categorical_accuracy: 0.8991\n",
      "Epoch 10/15\n",
      "39774/39774 [==============================] - 11s 275us/sample - loss: 0.2879 - sparse_categorical_accuracy: 0.9139\n",
      "Epoch 11/15\n",
      "39774/39774 [==============================] - 14s 354us/sample - loss: 0.2509 - sparse_categorical_accuracy: 0.9238\n",
      "Epoch 12/15\n",
      "39774/39774 [==============================] - 11s 273us/sample - loss: 0.2180 - sparse_categorical_accuracy: 0.9329\n",
      "Epoch 13/15\n",
      "39774/39774 [==============================] - 11s 286us/sample - loss: 0.1895 - sparse_categorical_accuracy: 0.9421\n",
      "Epoch 14/15\n",
      "39774/39774 [==============================] - 12s 292us/sample - loss: 0.1710 - sparse_categorical_accuracy: 0.9474\n",
      "Epoch 15/15\n",
      "39774/39774 [==============================] - 12s 305us/sample - loss: 0.1510 - sparse_categorical_accuracy: 0.9539\n"
     ]
    },
    {
     "data": {
      "text/plain": [
       "<tensorflow.python.keras.callbacks.History at 0x12ea5ab5d30>"
      ]
     },
     "execution_count": 29,
     "metadata": {},
     "output_type": "execute_result"
    }
   ],
   "source": [
    "model_dl2 = Sequential()\n",
    "model_dl2.add(BatchNormalization(input_shape=(3034,)))\n",
    "model_dl2.add(Dense(2048,activation='relu'))\n",
    "model_dl2.add(Dropout(0.5))\n",
    "model_dl2.add(Dense(512,activation='relu'))\n",
    "model_dl2.add(Dropout(0.5))\n",
    "model_dl2.add(Dense(128,activation='relu'))\n",
    "model_dl2.add(Dropout(0.5))\n",
    "model_dl2.add(Dense(20,activation='softmax'))\n",
    "model_dl2.compile('adam',loss='sparse_categorical_crossentropy',metrics=['sparse_categorical_accuracy'])\n",
    "model_dl2.fit(datax,datay,batch_size=1000,epochs=15)"
   ]
  },
  {
   "cell_type": "code",
   "execution_count": 30,
   "metadata": {},
   "outputs": [],
   "source": [
    "pred = model_dl2.predict_classes(testdatax)"
   ]
  },
  {
   "cell_type": "code",
   "execution_count": 31,
   "metadata": {},
   "outputs": [],
   "source": [
    "pred_df = pd.DataFrame([])\n",
    "pred_df['id'] = test['id']\n",
    "pred_df['cuisine'] = pred\n",
    "pred_df['cuisine'] = pred_df['cuisine'].map(category_dict)\n",
    "\n",
    "sub = pd.read_csv(r'C:\\Users\\User\\Downloads\\kaggle\\whats_cooking\\sample_submission.csv')\n",
    "sub = sub[['id']]\n",
    "sub = sub.merge(pred_df)\n",
    "sub.to_csv(r'C:\\Users\\User\\Downloads\\kaggle\\whats_cooking\\sample_submission.csv',index=False)"
   ]
  },
  {
   "cell_type": "markdown",
   "metadata": {},
   "source": [
    "# submission"
   ]
  },
  {
   "cell_type": "code",
   "execution_count": 13,
   "metadata": {},
   "outputs": [],
   "source": [
    "pred = model_dl.predict_classes(testdatax)"
   ]
  },
  {
   "cell_type": "code",
   "execution_count": 14,
   "metadata": {},
   "outputs": [],
   "source": [
    "pred_df = pd.DataFrame([])\n",
    "pred_df['id'] = test['id']\n",
    "pred_df['cuisine'] = pred\n",
    "pred_df['cuisine'] = pred_df['cuisine'].map(category_dict)"
   ]
  },
  {
   "cell_type": "code",
   "execution_count": 15,
   "metadata": {},
   "outputs": [
    {
     "data": {
      "text/html": [
       "<div>\n",
       "<style scoped>\n",
       "    .dataframe tbody tr th:only-of-type {\n",
       "        vertical-align: middle;\n",
       "    }\n",
       "\n",
       "    .dataframe tbody tr th {\n",
       "        vertical-align: top;\n",
       "    }\n",
       "\n",
       "    .dataframe thead th {\n",
       "        text-align: right;\n",
       "    }\n",
       "</style>\n",
       "<table border=\"1\" class=\"dataframe\">\n",
       "  <thead>\n",
       "    <tr style=\"text-align: right;\">\n",
       "      <th></th>\n",
       "      <th>id</th>\n",
       "      <th>cuisine</th>\n",
       "    </tr>\n",
       "  </thead>\n",
       "  <tbody>\n",
       "    <tr>\n",
       "      <th>0</th>\n",
       "      <td>18009</td>\n",
       "      <td>southern_us</td>\n",
       "    </tr>\n",
       "    <tr>\n",
       "      <th>1</th>\n",
       "      <td>28583</td>\n",
       "      <td>southern_us</td>\n",
       "    </tr>\n",
       "    <tr>\n",
       "      <th>2</th>\n",
       "      <td>41580</td>\n",
       "      <td>italian</td>\n",
       "    </tr>\n",
       "    <tr>\n",
       "      <th>3</th>\n",
       "      <td>29752</td>\n",
       "      <td>cajun_creole</td>\n",
       "    </tr>\n",
       "    <tr>\n",
       "      <th>4</th>\n",
       "      <td>35687</td>\n",
       "      <td>italian</td>\n",
       "    </tr>\n",
       "  </tbody>\n",
       "</table>\n",
       "</div>"
      ],
      "text/plain": [
       "      id       cuisine\n",
       "0  18009   southern_us\n",
       "1  28583   southern_us\n",
       "2  41580       italian\n",
       "3  29752  cajun_creole\n",
       "4  35687       italian"
      ]
     },
     "execution_count": 15,
     "metadata": {},
     "output_type": "execute_result"
    }
   ],
   "source": [
    "pred_df.head()"
   ]
  },
  {
   "cell_type": "code",
   "execution_count": 16,
   "metadata": {},
   "outputs": [],
   "source": [
    "sub = pd.read_csv(r'C:\\Users\\User\\Downloads\\kaggle\\whats_cooking\\sample_submission.csv')\n",
    "sub = sub[['id']]\n",
    "sub = sub.merge(pred_df)\n",
    "sub.to_csv(r'C:\\Users\\User\\Downloads\\kaggle\\whats_cooking\\sample_submission.csv',index=False)"
   ]
  },
  {
   "cell_type": "markdown",
   "metadata": {},
   "source": [
    "### result :  0.79847 (236/1387) (17%)"
   ]
  }
 ],
 "metadata": {
  "kernelspec": {
   "display_name": "Python 3",
   "language": "python",
   "name": "python3"
  },
  "language_info": {
   "codemirror_mode": {
    "name": "ipython",
    "version": 3
   },
   "file_extension": ".py",
   "mimetype": "text/x-python",
   "name": "python",
   "nbconvert_exporter": "python",
   "pygments_lexer": "ipython3",
   "version": "3.7.3"
  }
 },
 "nbformat": 4,
 "nbformat_minor": 2
}
